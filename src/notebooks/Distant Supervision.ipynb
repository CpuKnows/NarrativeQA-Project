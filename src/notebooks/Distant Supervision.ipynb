{
 "cells": [
  {
   "cell_type": "code",
   "execution_count": 1,
   "metadata": {},
   "outputs": [],
   "source": [
    "import codecs\n",
    "import string\n",
    "import sys\n",
    "import numpy as np\n",
    "import pandas as pd\n",
    "import spacy\n",
    "\n",
    "nlp = spacy.load('en')"
   ]
  },
  {
   "cell_type": "code",
   "execution_count": 2,
   "metadata": {},
   "outputs": [],
   "source": [
    "from scipy.spatial.distance import cosine\n",
    "from sklearn.feature_extraction.text import TfidfVectorizer"
   ]
  },
  {
   "cell_type": "code",
   "execution_count": 3,
   "metadata": {},
   "outputs": [
    {
     "data": {
      "text/html": [
       "<div>\n",
       "<style scoped>\n",
       "    .dataframe tbody tr th:only-of-type {\n",
       "        vertical-align: middle;\n",
       "    }\n",
       "\n",
       "    .dataframe tbody tr th {\n",
       "        vertical-align: top;\n",
       "    }\n",
       "\n",
       "    .dataframe thead th {\n",
       "        text-align: right;\n",
       "    }\n",
       "</style>\n",
       "<table border=\"1\" class=\"dataframe\">\n",
       "  <thead>\n",
       "    <tr style=\"text-align: right;\">\n",
       "      <th></th>\n",
       "      <th>document_id</th>\n",
       "      <th>set</th>\n",
       "      <th>kind</th>\n",
       "      <th>story_url</th>\n",
       "      <th>story_file_size</th>\n",
       "      <th>wiki_url</th>\n",
       "      <th>wiki_title</th>\n",
       "      <th>story_word_count</th>\n",
       "      <th>story_start</th>\n",
       "      <th>story_end</th>\n",
       "    </tr>\n",
       "  </thead>\n",
       "  <tbody>\n",
       "    <tr>\n",
       "      <th>0</th>\n",
       "      <td>0025577043f5090cd603c6aea60f26e236195594</td>\n",
       "      <td>test</td>\n",
       "      <td>movie</td>\n",
       "      <td>http://www.awesomefilm.com/script/pumpupthevol...</td>\n",
       "      <td>54078</td>\n",
       "      <td>http://en.wikipedia.org/wiki/Pump_Up_the_Volum...</td>\n",
       "      <td>Pump Up the Volume (film)</td>\n",
       "      <td>11499</td>\n",
       "      <td>Happy Harry Hardon</td>\n",
       "      <td>by Martin Eaves</td>\n",
       "    </tr>\n",
       "    <tr>\n",
       "      <th>1</th>\n",
       "      <td>0029bdbe75423337b551e42bb31f9a102785376f</td>\n",
       "      <td>train</td>\n",
       "      <td>gutenberg</td>\n",
       "      <td>http://www.gutenberg.org/ebooks/21572.txt.utf-8</td>\n",
       "      <td>814507</td>\n",
       "      <td>http://en.wikipedia.org/wiki/Percival_Keene</td>\n",
       "      <td>Percival Keene</td>\n",
       "      <td>173334</td>\n",
       "      <td>Produced by Nick</td>\n",
       "      <td>new eBooks .</td>\n",
       "    </tr>\n",
       "    <tr>\n",
       "      <th>2</th>\n",
       "      <td>00936497f5884881f1df23f4834f6739552cee8b</td>\n",
       "      <td>train</td>\n",
       "      <td>gutenberg</td>\n",
       "      <td>http://www.gutenberg.org/ebooks/3526.txt.utf-8</td>\n",
       "      <td>566874</td>\n",
       "      <td>http://en.wikipedia.org/wiki/Five_Weeks_in_a_B...</td>\n",
       "      <td>Five Weeks in a Balloon</td>\n",
       "      <td>112898</td>\n",
       "      <td>Produced by Judy</td>\n",
       "      <td>new eBooks .</td>\n",
       "    </tr>\n",
       "    <tr>\n",
       "      <th>3</th>\n",
       "      <td>00950a3641e6a28b04a6fabf6334140e2deaa9fd</td>\n",
       "      <td>train</td>\n",
       "      <td>gutenberg</td>\n",
       "      <td>http://www.gutenberg.org/ebooks/42188.txt.utf-8</td>\n",
       "      <td>90192</td>\n",
       "      <td>http://en.wikipedia.org/wiki/Shadows_in_the_Mo...</td>\n",
       "      <td>Shadows in the Moonlight (story)</td>\n",
       "      <td>17670</td>\n",
       "      <td>Produced by Greg</td>\n",
       "      <td>new eBooks .</td>\n",
       "    </tr>\n",
       "    <tr>\n",
       "      <th>4</th>\n",
       "      <td>00ee9e01a0e581e0d8cbf7e865a895147c480c5e</td>\n",
       "      <td>train</td>\n",
       "      <td>movie</td>\n",
       "      <td>http://www.imsdb.com/scripts/Crank.html</td>\n",
       "      <td>309143</td>\n",
       "      <td>http://en.wikipedia.org/wiki/Crank_(film)</td>\n",
       "      <td>Crank (film)</td>\n",
       "      <td>27546</td>\n",
       "      <td>CRANK Written by</td>\n",
       "      <td>TO SOUNDTRACK .</td>\n",
       "    </tr>\n",
       "  </tbody>\n",
       "</table>\n",
       "</div>"
      ],
      "text/plain": [
       "                                document_id    set       kind  \\\n",
       "0  0025577043f5090cd603c6aea60f26e236195594   test      movie   \n",
       "1  0029bdbe75423337b551e42bb31f9a102785376f  train  gutenberg   \n",
       "2  00936497f5884881f1df23f4834f6739552cee8b  train  gutenberg   \n",
       "3  00950a3641e6a28b04a6fabf6334140e2deaa9fd  train  gutenberg   \n",
       "4  00ee9e01a0e581e0d8cbf7e865a895147c480c5e  train      movie   \n",
       "\n",
       "                                           story_url  story_file_size  \\\n",
       "0  http://www.awesomefilm.com/script/pumpupthevol...            54078   \n",
       "1    http://www.gutenberg.org/ebooks/21572.txt.utf-8           814507   \n",
       "2     http://www.gutenberg.org/ebooks/3526.txt.utf-8           566874   \n",
       "3    http://www.gutenberg.org/ebooks/42188.txt.utf-8            90192   \n",
       "4            http://www.imsdb.com/scripts/Crank.html           309143   \n",
       "\n",
       "                                            wiki_url  \\\n",
       "0  http://en.wikipedia.org/wiki/Pump_Up_the_Volum...   \n",
       "1        http://en.wikipedia.org/wiki/Percival_Keene   \n",
       "2  http://en.wikipedia.org/wiki/Five_Weeks_in_a_B...   \n",
       "3  http://en.wikipedia.org/wiki/Shadows_in_the_Mo...   \n",
       "4          http://en.wikipedia.org/wiki/Crank_(film)   \n",
       "\n",
       "                         wiki_title  story_word_count         story_start  \\\n",
       "0         Pump Up the Volume (film)             11499  Happy Harry Hardon   \n",
       "1                    Percival Keene            173334    Produced by Nick   \n",
       "2           Five Weeks in a Balloon            112898    Produced by Judy   \n",
       "3  Shadows in the Moonlight (story)             17670    Produced by Greg   \n",
       "4                      Crank (film)             27546    CRANK Written by   \n",
       "\n",
       "         story_end  \n",
       "0  by Martin Eaves  \n",
       "1     new eBooks .  \n",
       "2     new eBooks .  \n",
       "3     new eBooks .  \n",
       "4  TO SOUNDTRACK .  "
      ]
     },
     "execution_count": 3,
     "metadata": {},
     "output_type": "execute_result"
    }
   ],
   "source": [
    "docs_index = pd.read_csv('../../data/documents.csv')\n",
    "docs_index.head()"
   ]
  },
  {
   "cell_type": "code",
   "execution_count": 4,
   "metadata": {},
   "outputs": [
    {
     "data": {
      "text/html": [
       "<div>\n",
       "<style scoped>\n",
       "    .dataframe tbody tr th:only-of-type {\n",
       "        vertical-align: middle;\n",
       "    }\n",
       "\n",
       "    .dataframe tbody tr th {\n",
       "        vertical-align: top;\n",
       "    }\n",
       "\n",
       "    .dataframe thead th {\n",
       "        text-align: right;\n",
       "    }\n",
       "</style>\n",
       "<table border=\"1\" class=\"dataframe\">\n",
       "  <thead>\n",
       "    <tr style=\"text-align: right;\">\n",
       "      <th></th>\n",
       "      <th>document_id</th>\n",
       "      <th>set</th>\n",
       "      <th>question</th>\n",
       "      <th>answer1</th>\n",
       "      <th>answer2</th>\n",
       "      <th>question_tokenized</th>\n",
       "      <th>answer1_tokenized</th>\n",
       "      <th>answer2_tokenized</th>\n",
       "    </tr>\n",
       "  </thead>\n",
       "  <tbody>\n",
       "    <tr>\n",
       "      <th>0</th>\n",
       "      <td>0025577043f5090cd603c6aea60f26e236195594</td>\n",
       "      <td>test</td>\n",
       "      <td>Who is Mark Hunter?</td>\n",
       "      <td>He is a high school student in Phoenix.</td>\n",
       "      <td>A loner and outsider student with a radio stat...</td>\n",
       "      <td>Who is Mark Hunter ?</td>\n",
       "      <td>He is a high school student in Phoenix .</td>\n",
       "      <td>A loner and outsider student with a radio stat...</td>\n",
       "    </tr>\n",
       "    <tr>\n",
       "      <th>1</th>\n",
       "      <td>0025577043f5090cd603c6aea60f26e236195594</td>\n",
       "      <td>test</td>\n",
       "      <td>Where does this radio station take place?</td>\n",
       "      <td>It takes place in Mark's parents basement.</td>\n",
       "      <td>Phoenix, Arizona</td>\n",
       "      <td>Where does this radio station take place ?</td>\n",
       "      <td>It takes place in Mark s parents basement .</td>\n",
       "      <td>Phoenix , Arizona</td>\n",
       "    </tr>\n",
       "    <tr>\n",
       "      <th>2</th>\n",
       "      <td>0025577043f5090cd603c6aea60f26e236195594</td>\n",
       "      <td>test</td>\n",
       "      <td>Why do more students tune into Mark's show?</td>\n",
       "      <td>Mark talks about what goes on at school and in...</td>\n",
       "      <td>Because he has a thing to say about what is ha...</td>\n",
       "      <td>Why do more students tune into Mark s show ?</td>\n",
       "      <td>Mark talks about what goes on at school and in...</td>\n",
       "      <td>Because he has a thing to say about what is ha...</td>\n",
       "    </tr>\n",
       "    <tr>\n",
       "      <th>3</th>\n",
       "      <td>0025577043f5090cd603c6aea60f26e236195594</td>\n",
       "      <td>test</td>\n",
       "      <td>Who commits suicide?</td>\n",
       "      <td>Malcolm.</td>\n",
       "      <td>Malcolm.</td>\n",
       "      <td>Who commits suicide ?</td>\n",
       "      <td>Malcolm .</td>\n",
       "      <td>Malcolm .</td>\n",
       "    </tr>\n",
       "    <tr>\n",
       "      <th>4</th>\n",
       "      <td>0025577043f5090cd603c6aea60f26e236195594</td>\n",
       "      <td>test</td>\n",
       "      <td>What does Paige jam into her microwave?</td>\n",
       "      <td>She jams her medals and accolades.</td>\n",
       "      <td>Her award medals</td>\n",
       "      <td>What does Paige jam into her microwave ?</td>\n",
       "      <td>She jams her medals and accolades .</td>\n",
       "      <td>Her award medals</td>\n",
       "    </tr>\n",
       "    <tr>\n",
       "      <th>5</th>\n",
       "      <td>0025577043f5090cd603c6aea60f26e236195594</td>\n",
       "      <td>test</td>\n",
       "      <td>What does Mark do with his radio station?</td>\n",
       "      <td>He dismantles it and attaches it to his mother...</td>\n",
       "      <td>Dismantle it.</td>\n",
       "      <td>What does Mark do with his radio station ?</td>\n",
       "      <td>He dismantles it and attaches it to his mother...</td>\n",
       "      <td>Dismantle it .</td>\n",
       "    </tr>\n",
       "    <tr>\n",
       "      <th>6</th>\n",
       "      <td>0025577043f5090cd603c6aea60f26e236195594</td>\n",
       "      <td>test</td>\n",
       "      <td>What does Mark tell the protesting students?</td>\n",
       "      <td>He tells them to make their own future.</td>\n",
       "      <td>That they should make their own future because...</td>\n",
       "      <td>What does Mark tell the protesting students ?</td>\n",
       "      <td>He tells them to make their own future .</td>\n",
       "      <td>That they should make their own future because...</td>\n",
       "    </tr>\n",
       "    <tr>\n",
       "      <th>7</th>\n",
       "      <td>0025577043f5090cd603c6aea60f26e236195594</td>\n",
       "      <td>test</td>\n",
       "      <td>Who gets arrested?</td>\n",
       "      <td>Mark and Nora.</td>\n",
       "      <td>Mark and Nora.</td>\n",
       "      <td>Who gets arrested ?</td>\n",
       "      <td>Mark and Nora .</td>\n",
       "      <td>Mark and Nora .</td>\n",
       "    </tr>\n",
       "    <tr>\n",
       "      <th>8</th>\n",
       "      <td>0025577043f5090cd603c6aea60f26e236195594</td>\n",
       "      <td>test</td>\n",
       "      <td>What does the radio show cause?</td>\n",
       "      <td>It causes trouble.</td>\n",
       "      <td>It causes much trouble in the community.</td>\n",
       "      <td>What does the radio show cause ?</td>\n",
       "      <td>It causes trouble .</td>\n",
       "      <td>It causes much trouble in the community .</td>\n",
       "    </tr>\n",
       "    <tr>\n",
       "      <th>9</th>\n",
       "      <td>0025577043f5090cd603c6aea60f26e236195594</td>\n",
       "      <td>test</td>\n",
       "      <td>Where does Mark Broadcast his station from?</td>\n",
       "      <td>Parent's Basement</td>\n",
       "      <td>At the basement of his home</td>\n",
       "      <td>Where does Mark Broadcast his station from ?</td>\n",
       "      <td>Parent s Basement</td>\n",
       "      <td>At the basement of his home</td>\n",
       "    </tr>\n",
       "  </tbody>\n",
       "</table>\n",
       "</div>"
      ],
      "text/plain": [
       "                                document_id   set  \\\n",
       "0  0025577043f5090cd603c6aea60f26e236195594  test   \n",
       "1  0025577043f5090cd603c6aea60f26e236195594  test   \n",
       "2  0025577043f5090cd603c6aea60f26e236195594  test   \n",
       "3  0025577043f5090cd603c6aea60f26e236195594  test   \n",
       "4  0025577043f5090cd603c6aea60f26e236195594  test   \n",
       "5  0025577043f5090cd603c6aea60f26e236195594  test   \n",
       "6  0025577043f5090cd603c6aea60f26e236195594  test   \n",
       "7  0025577043f5090cd603c6aea60f26e236195594  test   \n",
       "8  0025577043f5090cd603c6aea60f26e236195594  test   \n",
       "9  0025577043f5090cd603c6aea60f26e236195594  test   \n",
       "\n",
       "                                       question  \\\n",
       "0                           Who is Mark Hunter?   \n",
       "1     Where does this radio station take place?   \n",
       "2   Why do more students tune into Mark's show?   \n",
       "3                          Who commits suicide?   \n",
       "4       What does Paige jam into her microwave?   \n",
       "5     What does Mark do with his radio station?   \n",
       "6  What does Mark tell the protesting students?   \n",
       "7                            Who gets arrested?   \n",
       "8               What does the radio show cause?   \n",
       "9   Where does Mark Broadcast his station from?   \n",
       "\n",
       "                                             answer1  \\\n",
       "0            He is a high school student in Phoenix.   \n",
       "1        It takes place in Mark's parents basement.    \n",
       "2  Mark talks about what goes on at school and in...   \n",
       "3                                           Malcolm.   \n",
       "4                She jams her medals and accolades.    \n",
       "5  He dismantles it and attaches it to his mother...   \n",
       "6            He tells them to make their own future.   \n",
       "7                                     Mark and Nora.   \n",
       "8                                It causes trouble.    \n",
       "9                                  Parent's Basement   \n",
       "\n",
       "                                             answer2  \\\n",
       "0  A loner and outsider student with a radio stat...   \n",
       "1                                   Phoenix, Arizona   \n",
       "2  Because he has a thing to say about what is ha...   \n",
       "3                                           Malcolm.   \n",
       "4                                   Her award medals   \n",
       "5                                      Dismantle it.   \n",
       "6  That they should make their own future because...   \n",
       "7                                     Mark and Nora.   \n",
       "8           It causes much trouble in the community.   \n",
       "9                        At the basement of his home   \n",
       "\n",
       "                              question_tokenized  \\\n",
       "0                           Who is Mark Hunter ?   \n",
       "1     Where does this radio station take place ?   \n",
       "2   Why do more students tune into Mark s show ?   \n",
       "3                          Who commits suicide ?   \n",
       "4       What does Paige jam into her microwave ?   \n",
       "5     What does Mark do with his radio station ?   \n",
       "6  What does Mark tell the protesting students ?   \n",
       "7                            Who gets arrested ?   \n",
       "8               What does the radio show cause ?   \n",
       "9   Where does Mark Broadcast his station from ?   \n",
       "\n",
       "                                   answer1_tokenized  \\\n",
       "0           He is a high school student in Phoenix .   \n",
       "1        It takes place in Mark s parents basement .   \n",
       "2  Mark talks about what goes on at school and in...   \n",
       "3                                          Malcolm .   \n",
       "4                She jams her medals and accolades .   \n",
       "5  He dismantles it and attaches it to his mother...   \n",
       "6           He tells them to make their own future .   \n",
       "7                                    Mark and Nora .   \n",
       "8                                It causes trouble .   \n",
       "9                                  Parent s Basement   \n",
       "\n",
       "                                   answer2_tokenized  \n",
       "0  A loner and outsider student with a radio stat...  \n",
       "1                                  Phoenix , Arizona  \n",
       "2  Because he has a thing to say about what is ha...  \n",
       "3                                          Malcolm .  \n",
       "4                                   Her award medals  \n",
       "5                                     Dismantle it .  \n",
       "6  That they should make their own future because...  \n",
       "7                                    Mark and Nora .  \n",
       "8          It causes much trouble in the community .  \n",
       "9                        At the basement of his home  "
      ]
     },
     "execution_count": 4,
     "metadata": {},
     "output_type": "execute_result"
    }
   ],
   "source": [
    "questions = pd.read_csv('../../data/qaps.csv')\n",
    "questions.head(10)"
   ]
  },
  {
   "cell_type": "code",
   "execution_count": 5,
   "metadata": {},
   "outputs": [],
   "source": [
    "summaries = pd.read_csv('../../data/third_party/wikipedia/summaries.csv')"
   ]
  },
  {
   "cell_type": "markdown",
   "metadata": {},
   "source": [
    "# TF-IDF Similarity"
   ]
  },
  {
   "cell_type": "code",
   "execution_count": 16,
   "metadata": {},
   "outputs": [],
   "source": [
    "doc = nlp(summaries.loc[lambda df: df['document_id'] == '0029bdbe75423337b551e42bb31f9a102785376f','summary'].values[0])"
   ]
  },
  {
   "cell_type": "code",
   "execution_count": 61,
   "metadata": {},
   "outputs": [],
   "source": [
    "def chunk_doc(doc, chunk_size):\n",
    "    chunks = list()\n",
    "    chunk = ''\n",
    "\n",
    "    for i, token in enumerate(doc):\n",
    "        chunk += token.text_with_ws\n",
    "        if (i+1) % chunk_size == 0:\n",
    "            chunks.append(chunk)\n",
    "            chunk = ''\n",
    "\n",
    "    if chunk != '':\n",
    "        chunks.append(chunk)\n",
    "        chunk = ''\n",
    "    \n",
    "    return chunks\n",
    "\n",
    "def doc_ir(doc, question, vectorizer, top_n):\n",
    "    chunks = list()\n",
    "    for sent in doc.sents:\n",
    "        #chunks.append(' '.join([token.text for token in sent if not token.is_stop]))\n",
    "        chunks.append(sent.text)\n",
    "    chunks.append(question)\n",
    "    \n",
    "    tfidf_matrix = vectorizer.fit_transform(chunks)\n",
    "    tfidf_matrix = tfidf_matrix.todense()\n",
    "    \n",
    "    question_vector = tfidf_matrix[-1, :]\n",
    "    chunk_vectors = tfidf_matrix[0:-1, :]\n",
    "    \n",
    "    similarity_rank = list()\n",
    "    for i,vector in enumerate(chunk_vectors):\n",
    "        cos_sim = 1 - cosine(question_vector, vector)\n",
    "        similarity_rank.append((i, cos_sim))\n",
    "\n",
    "    similarity_rank.sort(key=lambda tup: tup[1], reverse=True)\n",
    "    #similarity_rank = similarity_rank[:top_n]\n",
    "    #similarity_rank.sort(key=lambda tup: tup[0])\n",
    "    \n",
    "    return [chunks[i] for i,similarity in similarity_rank]"
   ]
  },
  {
   "cell_type": "code",
   "execution_count": 62,
   "metadata": {},
   "outputs": [
    {
     "name": "stdout",
     "output_type": "stream",
     "text": [
      "Who is Miss Delmer?\n",
      "the elderly spinster aunt of the Earl de Verseley and Captain Delmar\n",
      "She's Captail Delmar's aunt.\n"
     ]
    }
   ],
   "source": [
    "tfidf_vectorizer = TfidfVectorizer()\n",
    "\n",
    "doc_id = '0029bdbe75423337b551e42bb31f9a102785376f'\n",
    "i = 0\n",
    "q = questions.loc[lambda df: df['document_id'] == doc_id,'question'].values[i]\n",
    "a1 = questions.loc[lambda df: df['document_id'] == doc_id,'answer1'].values[i]\n",
    "a2 = questions.loc[lambda df: df['document_id'] == doc_id,'answer2'].values[i]\n",
    "summary = summaries.loc[lambda df: df['document_id'] == doc_id,'summary'].values[0]\n",
    "\n",
    "sent_rank = doc_ir(doc, \n",
    "                   a1, \n",
    "                   tfidf_vectorizer, \n",
    "                   0)\n",
    "\n",
    "print(q)\n",
    "print(a1)\n",
    "print(a2)"
   ]
  },
  {
   "cell_type": "code",
   "execution_count": 63,
   "metadata": {},
   "outputs": [
    {
     "data": {
      "text/plain": [
       "' At Madeline Hall, an old mansion-house near Southampton belonging to the wealthy de Versely family, lives an elderly spinster Miss Delmar, the aunt of the earl de Versely and Captain Delmar.'"
      ]
     },
     "execution_count": 63,
     "metadata": {},
     "output_type": "execute_result"
    }
   ],
   "source": [
    "sent_rank[0]"
   ]
  },
  {
   "cell_type": "markdown",
   "metadata": {},
   "source": [
    "# Vector Average"
   ]
  },
  {
   "cell_type": "code",
   "execution_count": 8,
   "metadata": {},
   "outputs": [],
   "source": [
    "nlp_simple = spacy.load('en', disable=[\"ner\"])"
   ]
  },
  {
   "cell_type": "code",
   "execution_count": 9,
   "metadata": {},
   "outputs": [
    {
     "name": "stdout",
     "output_type": "stream",
     "text": [
      "Who is Miss Delmer?\n",
      "the elderly spinster aunt of the Earl de Verseley and Captain Delmar\n",
      "She's Captail Delmar's aunt.\n"
     ]
    }
   ],
   "source": [
    "doc_id = '0029bdbe75423337b551e42bb31f9a102785376f'\n",
    "q_num = 0\n",
    "q = questions.loc[lambda df: df['document_id'] == doc_id,'question'].values[q_num]\n",
    "a1 = questions.loc[lambda df: df['document_id'] == doc_id,'answer1'].values[q_num]\n",
    "a2 = questions.loc[lambda df: df['document_id'] == doc_id,'answer2'].values[q_num]\n",
    "summary = summaries.loc[lambda df: df['document_id'] == doc_id,'summary'].values[0]\n",
    "\n",
    "print(q)\n",
    "print(a1)\n",
    "print(a2)"
   ]
  },
  {
   "cell_type": "code",
   "execution_count": 10,
   "metadata": {},
   "outputs": [],
   "source": [
    "a1_doc = nlp_simple(a1)\n",
    "summary_doc = nlp_simple(summary)"
   ]
  },
  {
   "cell_type": "code",
   "execution_count": 11,
   "metadata": {},
   "outputs": [],
   "source": [
    "with codecs.open('../../data/clean/'+doc_id+'-clean.content', 'r',encoding='utf-8', errors='ignore') as f:\n",
    "    book_text = f.read()\n",
    "\n",
    "book_doc = nlp_simple(book_text)"
   ]
  },
  {
   "cell_type": "markdown",
   "metadata": {},
   "source": [
    "## Summary"
   ]
  },
  {
   "cell_type": "code",
   "execution_count": 12,
   "metadata": {},
   "outputs": [],
   "source": [
    "summary_rank = list()\n",
    "summary_sents = list()\n",
    "for i,sent in enumerate(summary_doc.sents):\n",
    "    summary_sents.append(sent.text)\n",
    "    summary_rank.append((i, sent.similarity(a1_doc)))\n",
    "    \n",
    "summary_rank.sort(key=lambda tup: tup[1], reverse=True)"
   ]
  },
  {
   "cell_type": "code",
   "execution_count": 13,
   "metadata": {},
   "outputs": [
    {
     "data": {
      "text/plain": [
       "[(0, 0.9353053003675217),\n",
       " (3, 0.8344173232254826),\n",
       " (5, 0.7910966787495401),\n",
       " (22, 0.7865234077050896),\n",
       " (13, 0.7821810007353073)]"
      ]
     },
     "execution_count": 13,
     "metadata": {},
     "output_type": "execute_result"
    }
   ],
   "source": [
    "summary_rank[:5]"
   ]
  },
  {
   "cell_type": "code",
   "execution_count": 18,
   "metadata": {},
   "outputs": [
    {
     "name": "stdout",
     "output_type": "stream",
     "text": [
      " At Madeline Hall, an old mansion-house near Southampton belonging to the wealthy de Versely family, lives an elderly spinster Miss Delmar, the aunt of the earl de Versely and Captain Delmar.\n"
     ]
    }
   ],
   "source": [
    "print(summary_sents[0])"
   ]
  },
  {
   "cell_type": "markdown",
   "metadata": {},
   "source": [
    "## Book"
   ]
  },
  {
   "cell_type": "code",
   "execution_count": 15,
   "metadata": {},
   "outputs": [],
   "source": [
    "book_rank = list()\n",
    "book_sents = list()\n",
    "for i,sent in enumerate(book_doc.sents):\n",
    "    book_sents.append(sent.text)\n",
    "    book_rank.append((i, sent.similarity(a1_doc)))\n",
    "    \n",
    "book_rank.sort(key=lambda tup: tup[1], reverse=True)"
   ]
  },
  {
   "cell_type": "code",
   "execution_count": 16,
   "metadata": {},
   "outputs": [
    {
     "data": {
      "text/plain": [
       "[(817, 0.877449113798834),\n",
       " (16, 0.8693175194103513),\n",
       " (3935, 0.8466454051546873),\n",
       " (3932, 0.8453529605307817),\n",
       " (6486, 0.8296636715135427)]"
      ]
     },
     "execution_count": 16,
     "metadata": {},
     "output_type": "execute_result"
    }
   ],
   "source": [
    "book_rank[:5]"
   ]
  },
  {
   "cell_type": "code",
   "execution_count": 19,
   "metadata": {},
   "outputs": [
    {
     "name": "stdout",
     "output_type": "stream",
     "text": [
      "At the period\n",
      "in which I commence this history, there resided in this mansion an\n",
      "elderly spinster of rank, named the Honourable Miss Delmar, sister of\n",
      "the late Lord de Versely and aunt to the present earl, and an Honourable\n",
      "Captain Delmar, who was the second son of the deceased nobleman.  \n"
     ]
    }
   ],
   "source": [
    "print(book_sents[16])"
   ]
  },
  {
   "cell_type": "markdown",
   "metadata": {},
   "source": [
    "## Summary to book"
   ]
  },
  {
   "cell_type": "code",
   "execution_count": 20,
   "metadata": {},
   "outputs": [],
   "source": [
    "best_summary_sentence = nlp_simple(summary_sents[3])\n",
    "summary_book_rank = list()\n",
    "for i,sent in enumerate(book_doc.sents):\n",
    "    book_sents.append(sent.text)\n",
    "    summary_book_rank.append((i, sent.similarity(best_summary_sentence)))\n",
    "    \n",
    "summary_book_rank.sort(key=lambda tup: tup[1], reverse=True)"
   ]
  },
  {
   "cell_type": "code",
   "execution_count": 21,
   "metadata": {},
   "outputs": [
    {
     "data": {
      "text/plain": [
       "[(705, 0.8843859428863184),\n",
       " (4503, 0.8835197247523201),\n",
       " (4589, 0.8689891202784701),\n",
       " (817, 0.8676940489653271),\n",
       " (46, 0.8673182453372974)]"
      ]
     },
     "execution_count": 21,
     "metadata": {},
     "output_type": "execute_result"
    }
   ],
   "source": [
    "summary_book_rank[:5]"
   ]
  },
  {
   "cell_type": "code",
   "execution_count": 23,
   "metadata": {},
   "outputs": [
    {
     "name": "stdout",
     "output_type": "stream",
     "text": [
      "Raising the Wind_, would be performed on Friday evening, for the\n",
      "benefit of Miss Mortimer under the patronage of the Honourable Captain\n",
      "Delmar, and the officers of his Majesty's ship Calliope.  \n"
     ]
    }
   ],
   "source": [
    "print(book_sents[817])"
   ]
  },
  {
   "cell_type": "code",
   "execution_count": null,
   "metadata": {},
   "outputs": [],
   "source": []
  }
 ],
 "metadata": {
  "kernelspec": {
   "display_name": "Python [conda env:narrativeqa]",
   "language": "python",
   "name": "conda-env-narrativeqa-py"
  },
  "language_info": {
   "codemirror_mode": {
    "name": "ipython",
    "version": 3
   },
   "file_extension": ".py",
   "mimetype": "text/x-python",
   "name": "python",
   "nbconvert_exporter": "python",
   "pygments_lexer": "ipython3",
   "version": "3.5.5"
  }
 },
 "nbformat": 4,
 "nbformat_minor": 2
}
