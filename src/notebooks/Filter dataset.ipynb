{
 "cells": [
  {
   "cell_type": "markdown",
   "metadata": {},
   "source": [
    "# Filter dataset"
   ]
  },
  {
   "cell_type": "code",
   "execution_count": 1,
   "metadata": {},
   "outputs": [],
   "source": [
    "import codecs\n",
    "from collections import Counter\n",
    "import re\n",
    "\n",
    "import numpy as np\n",
    "import pandas as pd\n",
    "import nltk\n",
    "import spacy\n",
    "from tqdm import tqdm"
   ]
  },
  {
   "cell_type": "code",
   "execution_count": 2,
   "metadata": {},
   "outputs": [],
   "source": [
    "nlp = spacy.load('en_core_web_md')"
   ]
  },
  {
   "cell_type": "code",
   "execution_count": 3,
   "metadata": {},
   "outputs": [],
   "source": [
    "nlp_simple = spacy.load('en_core_web_md', diable=['tagger', 'parser', 'ner', 'textcat'])\n",
    "#nlp.add_pipe(nlp.create_pipe('sentencizer'))"
   ]
  },
  {
   "cell_type": "code",
   "execution_count": 188,
   "metadata": {},
   "outputs": [],
   "source": [
    "docs_index = pd.read_csv('../../data/documents.csv')\n",
    "questions = pd.read_csv('../../data/qaps.csv')"
   ]
  },
  {
   "cell_type": "code",
   "execution_count": 5,
   "metadata": {},
   "outputs": [],
   "source": [
    "docs_index = docs_index.loc[lambda df: df['kind'] == 'gutenberg']\n",
    "questions = questions.loc[lambda df: df['question'].str.startswith('Who')]\n",
    "questions = questions.merge(docs_index.loc[:, ['document_id']], how='inner', on='document_id')"
   ]
  },
  {
   "cell_type": "code",
   "execution_count": 44,
   "metadata": {},
   "outputs": [
    {
     "data": {
      "text/html": [
       "<div>\n",
       "<style scoped>\n",
       "    .dataframe tbody tr th:only-of-type {\n",
       "        vertical-align: middle;\n",
       "    }\n",
       "\n",
       "    .dataframe tbody tr th {\n",
       "        vertical-align: top;\n",
       "    }\n",
       "\n",
       "    .dataframe thead th {\n",
       "        text-align: right;\n",
       "    }\n",
       "</style>\n",
       "<table border=\"1\" class=\"dataframe\">\n",
       "  <thead>\n",
       "    <tr style=\"text-align: right;\">\n",
       "      <th></th>\n",
       "      <th>document_id</th>\n",
       "      <th>set</th>\n",
       "      <th>kind</th>\n",
       "      <th>story_url</th>\n",
       "      <th>story_file_size</th>\n",
       "      <th>wiki_url</th>\n",
       "      <th>wiki_title</th>\n",
       "      <th>story_word_count</th>\n",
       "      <th>story_start</th>\n",
       "      <th>story_end</th>\n",
       "    </tr>\n",
       "  </thead>\n",
       "  <tbody>\n",
       "    <tr>\n",
       "      <th>0</th>\n",
       "      <td>0029bdbe75423337b551e42bb31f9a102785376f</td>\n",
       "      <td>train</td>\n",
       "      <td>gutenberg</td>\n",
       "      <td>http://www.gutenberg.org/ebooks/21572.txt.utf-8</td>\n",
       "      <td>814507</td>\n",
       "      <td>http://en.wikipedia.org/wiki/Percival_Keene</td>\n",
       "      <td>Percival Keene</td>\n",
       "      <td>173334</td>\n",
       "      <td>Produced by Nick</td>\n",
       "      <td>new eBooks .</td>\n",
       "    </tr>\n",
       "    <tr>\n",
       "      <th>1</th>\n",
       "      <td>00936497f5884881f1df23f4834f6739552cee8b</td>\n",
       "      <td>train</td>\n",
       "      <td>gutenberg</td>\n",
       "      <td>http://www.gutenberg.org/ebooks/3526.txt.utf-8</td>\n",
       "      <td>566874</td>\n",
       "      <td>http://en.wikipedia.org/wiki/Five_Weeks_in_a_B...</td>\n",
       "      <td>Five Weeks in a Balloon</td>\n",
       "      <td>112898</td>\n",
       "      <td>Produced by Judy</td>\n",
       "      <td>new eBooks .</td>\n",
       "    </tr>\n",
       "    <tr>\n",
       "      <th>2</th>\n",
       "      <td>00950a3641e6a28b04a6fabf6334140e2deaa9fd</td>\n",
       "      <td>train</td>\n",
       "      <td>gutenberg</td>\n",
       "      <td>http://www.gutenberg.org/ebooks/42188.txt.utf-8</td>\n",
       "      <td>90192</td>\n",
       "      <td>http://en.wikipedia.org/wiki/Shadows_in_the_Mo...</td>\n",
       "      <td>Shadows in the Moonlight (story)</td>\n",
       "      <td>17670</td>\n",
       "      <td>Produced by Greg</td>\n",
       "      <td>new eBooks .</td>\n",
       "    </tr>\n",
       "    <tr>\n",
       "      <th>3</th>\n",
       "      <td>00fb61fa7bee266ad995e52190ebb73606b60b70</td>\n",
       "      <td>valid</td>\n",
       "      <td>gutenberg</td>\n",
       "      <td>http://www.gutenberg.org/ebooks/3771.txt.utf-8</td>\n",
       "      <td>372868</td>\n",
       "      <td>http://en.wikipedia.org/wiki/Cynthia's_Revels</td>\n",
       "      <td>Cynthia's Revels</td>\n",
       "      <td>74928</td>\n",
       "      <td>Produced by Sue</td>\n",
       "      <td>new eBooks .</td>\n",
       "    </tr>\n",
       "    <tr>\n",
       "      <th>4</th>\n",
       "      <td>014de1a8802c05ff64efa047e9290fb7fccea2b4</td>\n",
       "      <td>test</td>\n",
       "      <td>gutenberg</td>\n",
       "      <td>http://www.gutenberg.org/ebooks/1329.txt.utf-8</td>\n",
       "      <td>560685</td>\n",
       "      <td>http://en.wikipedia.org/wiki/A_Voyage_to_Arcturus</td>\n",
       "      <td>A Voyage to Arcturus</td>\n",
       "      <td>113790</td>\n",
       "      <td>Produced by An</td>\n",
       "      <td>new eBooks .</td>\n",
       "    </tr>\n",
       "  </tbody>\n",
       "</table>\n",
       "</div>"
      ],
      "text/plain": [
       "                                document_id    set       kind  \\\n",
       "0  0029bdbe75423337b551e42bb31f9a102785376f  train  gutenberg   \n",
       "1  00936497f5884881f1df23f4834f6739552cee8b  train  gutenberg   \n",
       "2  00950a3641e6a28b04a6fabf6334140e2deaa9fd  train  gutenberg   \n",
       "3  00fb61fa7bee266ad995e52190ebb73606b60b70  valid  gutenberg   \n",
       "4  014de1a8802c05ff64efa047e9290fb7fccea2b4   test  gutenberg   \n",
       "\n",
       "                                         story_url  story_file_size  \\\n",
       "0  http://www.gutenberg.org/ebooks/21572.txt.utf-8           814507   \n",
       "1   http://www.gutenberg.org/ebooks/3526.txt.utf-8           566874   \n",
       "2  http://www.gutenberg.org/ebooks/42188.txt.utf-8            90192   \n",
       "3   http://www.gutenberg.org/ebooks/3771.txt.utf-8           372868   \n",
       "4   http://www.gutenberg.org/ebooks/1329.txt.utf-8           560685   \n",
       "\n",
       "                                            wiki_url  \\\n",
       "0        http://en.wikipedia.org/wiki/Percival_Keene   \n",
       "1  http://en.wikipedia.org/wiki/Five_Weeks_in_a_B...   \n",
       "2  http://en.wikipedia.org/wiki/Shadows_in_the_Mo...   \n",
       "3      http://en.wikipedia.org/wiki/Cynthia's_Revels   \n",
       "4  http://en.wikipedia.org/wiki/A_Voyage_to_Arcturus   \n",
       "\n",
       "                         wiki_title  story_word_count       story_start  \\\n",
       "0                    Percival Keene            173334  Produced by Nick   \n",
       "1           Five Weeks in a Balloon            112898  Produced by Judy   \n",
       "2  Shadows in the Moonlight (story)             17670  Produced by Greg   \n",
       "3                  Cynthia's Revels             74928   Produced by Sue   \n",
       "4              A Voyage to Arcturus            113790    Produced by An   \n",
       "\n",
       "      story_end  \n",
       "0  new eBooks .  \n",
       "1  new eBooks .  \n",
       "2  new eBooks .  \n",
       "3  new eBooks .  \n",
       "4  new eBooks .  "
      ]
     },
     "execution_count": 44,
     "metadata": {},
     "output_type": "execute_result"
    }
   ],
   "source": [
    "docs_index.head()"
   ]
  },
  {
   "cell_type": "code",
   "execution_count": 11,
   "metadata": {},
   "outputs": [
    {
     "data": {
      "text/html": [
       "<div>\n",
       "<style scoped>\n",
       "    .dataframe tbody tr th:only-of-type {\n",
       "        vertical-align: middle;\n",
       "    }\n",
       "\n",
       "    .dataframe tbody tr th {\n",
       "        vertical-align: top;\n",
       "    }\n",
       "\n",
       "    .dataframe thead th {\n",
       "        text-align: right;\n",
       "    }\n",
       "</style>\n",
       "<table border=\"1\" class=\"dataframe\">\n",
       "  <thead>\n",
       "    <tr style=\"text-align: right;\">\n",
       "      <th></th>\n",
       "      <th>document_id</th>\n",
       "      <th>set</th>\n",
       "      <th>question</th>\n",
       "      <th>answer1</th>\n",
       "      <th>answer2</th>\n",
       "      <th>question_tokenized</th>\n",
       "      <th>answer1_tokenized</th>\n",
       "      <th>answer2_tokenized</th>\n",
       "    </tr>\n",
       "  </thead>\n",
       "  <tbody>\n",
       "    <tr>\n",
       "      <th>0</th>\n",
       "      <td>0029bdbe75423337b551e42bb31f9a102785376f</td>\n",
       "      <td>train</td>\n",
       "      <td>Who is Miss Delmer?</td>\n",
       "      <td>the elderly spinster aunt of the Earl de Verse...</td>\n",
       "      <td>She's Captail Delmar's aunt.</td>\n",
       "      <td>Who is Miss Delmer ?</td>\n",
       "      <td>the elderly spinster aunt of the Earl de Verse...</td>\n",
       "      <td>She s Captail Delmar s aunt .</td>\n",
       "    </tr>\n",
       "    <tr>\n",
       "      <th>1</th>\n",
       "      <td>0029bdbe75423337b551e42bb31f9a102785376f</td>\n",
       "      <td>train</td>\n",
       "      <td>Who does Arabella Mason wed?</td>\n",
       "      <td>Ben Keene, Delmar's valet</td>\n",
       "      <td>Ben Keene</td>\n",
       "      <td>Who does Arabella Mason wed ?</td>\n",
       "      <td>Ben Keene , Delmar s valet</td>\n",
       "      <td>Ben Keene</td>\n",
       "    </tr>\n",
       "    <tr>\n",
       "      <th>2</th>\n",
       "      <td>0029bdbe75423337b551e42bb31f9a102785376f</td>\n",
       "      <td>train</td>\n",
       "      <td>Who is the bully that steals Percival's lunch?</td>\n",
       "      <td>his teacher, Mr. O'Gallagher</td>\n",
       "      <td>The schoolmaster</td>\n",
       "      <td>Who is the bully that steals Percival s lunch ?</td>\n",
       "      <td>his teacher , Mr. O'Gallagher</td>\n",
       "      <td>The schoolmaster</td>\n",
       "    </tr>\n",
       "    <tr>\n",
       "      <th>3</th>\n",
       "      <td>0029bdbe75423337b551e42bb31f9a102785376f</td>\n",
       "      <td>train</td>\n",
       "      <td>Who does Percival convince the Pirates to spare?</td>\n",
       "      <td>a rich Dutch merchant and his daughter Minnie</td>\n",
       "      <td>A Dutch Merchant and his daughter</td>\n",
       "      <td>Who does Percival convince the Pirates to spare ?</td>\n",
       "      <td>a rich Dutch merchant and his daughter Minnie</td>\n",
       "      <td>A Dutch Merchant and his daughter</td>\n",
       "    </tr>\n",
       "    <tr>\n",
       "      <th>4</th>\n",
       "      <td>0029bdbe75423337b551e42bb31f9a102785376f</td>\n",
       "      <td>train</td>\n",
       "      <td>Who lives at Madeline Hall?</td>\n",
       "      <td>Miss Delmar</td>\n",
       "      <td>Miss Delmar</td>\n",
       "      <td>Who lives at Madeline Hall ?</td>\n",
       "      <td>Miss Delmar</td>\n",
       "      <td>Miss Delmar</td>\n",
       "    </tr>\n",
       "  </tbody>\n",
       "</table>\n",
       "</div>"
      ],
      "text/plain": [
       "                                document_id    set  \\\n",
       "0  0029bdbe75423337b551e42bb31f9a102785376f  train   \n",
       "1  0029bdbe75423337b551e42bb31f9a102785376f  train   \n",
       "2  0029bdbe75423337b551e42bb31f9a102785376f  train   \n",
       "3  0029bdbe75423337b551e42bb31f9a102785376f  train   \n",
       "4  0029bdbe75423337b551e42bb31f9a102785376f  train   \n",
       "\n",
       "                                           question  \\\n",
       "0                               Who is Miss Delmer?   \n",
       "1                      Who does Arabella Mason wed?   \n",
       "2    Who is the bully that steals Percival's lunch?   \n",
       "3  Who does Percival convince the Pirates to spare?   \n",
       "4                       Who lives at Madeline Hall?   \n",
       "\n",
       "                                             answer1  \\\n",
       "0  the elderly spinster aunt of the Earl de Verse...   \n",
       "1                          Ben Keene, Delmar's valet   \n",
       "2                       his teacher, Mr. O'Gallagher   \n",
       "3      a rich Dutch merchant and his daughter Minnie   \n",
       "4                                        Miss Delmar   \n",
       "\n",
       "                             answer2  \\\n",
       "0       She's Captail Delmar's aunt.   \n",
       "1                          Ben Keene   \n",
       "2                   The schoolmaster   \n",
       "3  A Dutch Merchant and his daughter   \n",
       "4                        Miss Delmar   \n",
       "\n",
       "                                  question_tokenized  \\\n",
       "0                               Who is Miss Delmer ?   \n",
       "1                      Who does Arabella Mason wed ?   \n",
       "2    Who is the bully that steals Percival s lunch ?   \n",
       "3  Who does Percival convince the Pirates to spare ?   \n",
       "4                       Who lives at Madeline Hall ?   \n",
       "\n",
       "                                   answer1_tokenized  \\\n",
       "0  the elderly spinster aunt of the Earl de Verse...   \n",
       "1                         Ben Keene , Delmar s valet   \n",
       "2                      his teacher , Mr. O'Gallagher   \n",
       "3      a rich Dutch merchant and his daughter Minnie   \n",
       "4                                        Miss Delmar   \n",
       "\n",
       "                   answer2_tokenized  \n",
       "0      She s Captail Delmar s aunt .  \n",
       "1                          Ben Keene  \n",
       "2                   The schoolmaster  \n",
       "3  A Dutch Merchant and his daughter  \n",
       "4                        Miss Delmar  "
      ]
     },
     "execution_count": 11,
     "metadata": {},
     "output_type": "execute_result"
    }
   ],
   "source": [
    "questions.head()"
   ]
  },
  {
   "cell_type": "code",
   "execution_count": 9,
   "metadata": {},
   "outputs": [],
   "source": [
    "docs_index.to_csv('../../data/documents_books.csv', index=False)\n",
    "questions.to_csv('../../data/questions_books_who.csv', index=False)"
   ]
  },
  {
   "cell_type": "code",
   "execution_count": 4,
   "metadata": {},
   "outputs": [],
   "source": [
    "docs_index = pd.read_csv('../../data/documents_books.csv')\n",
    "questions = pd.read_csv('../../data/questions_books_who.csv')"
   ]
  },
  {
   "cell_type": "code",
   "execution_count": 5,
   "metadata": {},
   "outputs": [],
   "source": [
    "summaries = pd.read_csv('../../data/third_party/wikipedia/summaries.csv')"
   ]
  },
  {
   "cell_type": "code",
   "execution_count": 6,
   "metadata": {},
   "outputs": [
    {
     "data": {
      "text/html": [
       "<div>\n",
       "<style scoped>\n",
       "    .dataframe tbody tr th:only-of-type {\n",
       "        vertical-align: middle;\n",
       "    }\n",
       "\n",
       "    .dataframe tbody tr th {\n",
       "        vertical-align: top;\n",
       "    }\n",
       "\n",
       "    .dataframe thead th {\n",
       "        text-align: right;\n",
       "    }\n",
       "</style>\n",
       "<table border=\"1\" class=\"dataframe\">\n",
       "  <thead>\n",
       "    <tr style=\"text-align: right;\">\n",
       "      <th></th>\n",
       "      <th>document_id</th>\n",
       "      <th>set</th>\n",
       "      <th>summary</th>\n",
       "      <th>summary_tokenized</th>\n",
       "    </tr>\n",
       "  </thead>\n",
       "  <tbody>\n",
       "    <tr>\n",
       "      <th>0</th>\n",
       "      <td>0025577043f5090cd603c6aea60f26e236195594</td>\n",
       "      <td>test</td>\n",
       "      <td>Mark Hunter (Slater), a high school student i...</td>\n",
       "      <td>Mark Hunter ( Slater ) , a high school student...</td>\n",
       "    </tr>\n",
       "    <tr>\n",
       "      <th>1</th>\n",
       "      <td>0029bdbe75423337b551e42bb31f9a102785376f</td>\n",
       "      <td>train</td>\n",
       "      <td>At Madeline Hall, an old mansion-house near S...</td>\n",
       "      <td>At Madeline Hall , an old mansion-house near S...</td>\n",
       "    </tr>\n",
       "    <tr>\n",
       "      <th>2</th>\n",
       "      <td>00936497f5884881f1df23f4834f6739552cee8b</td>\n",
       "      <td>train</td>\n",
       "      <td>A scholar and explorer, Dr. Samuel Ferguson, ...</td>\n",
       "      <td>A scholar and explorer , Dr. Samuel Ferguson ,...</td>\n",
       "    </tr>\n",
       "    <tr>\n",
       "      <th>3</th>\n",
       "      <td>00950a3641e6a28b04a6fabf6334140e2deaa9fd</td>\n",
       "      <td>train</td>\n",
       "      <td>The story begins when a female lovely named O...</td>\n",
       "      <td>The story begins when a female lovely named Ol...</td>\n",
       "    </tr>\n",
       "    <tr>\n",
       "      <th>4</th>\n",
       "      <td>00ee9e01a0e581e0d8cbf7e865a895147c480c5e</td>\n",
       "      <td>train</td>\n",
       "      <td>Chev Chelios (Jason Statham) is a Los Angeles...</td>\n",
       "      <td>Chev Chelios ( Jason Statham ) is a Los Angele...</td>\n",
       "    </tr>\n",
       "  </tbody>\n",
       "</table>\n",
       "</div>"
      ],
      "text/plain": [
       "                                document_id    set  \\\n",
       "0  0025577043f5090cd603c6aea60f26e236195594   test   \n",
       "1  0029bdbe75423337b551e42bb31f9a102785376f  train   \n",
       "2  00936497f5884881f1df23f4834f6739552cee8b  train   \n",
       "3  00950a3641e6a28b04a6fabf6334140e2deaa9fd  train   \n",
       "4  00ee9e01a0e581e0d8cbf7e865a895147c480c5e  train   \n",
       "\n",
       "                                             summary  \\\n",
       "0   Mark Hunter (Slater), a high school student i...   \n",
       "1   At Madeline Hall, an old mansion-house near S...   \n",
       "2   A scholar and explorer, Dr. Samuel Ferguson, ...   \n",
       "3   The story begins when a female lovely named O...   \n",
       "4   Chev Chelios (Jason Statham) is a Los Angeles...   \n",
       "\n",
       "                                   summary_tokenized  \n",
       "0  Mark Hunter ( Slater ) , a high school student...  \n",
       "1  At Madeline Hall , an old mansion-house near S...  \n",
       "2  A scholar and explorer , Dr. Samuel Ferguson ,...  \n",
       "3  The story begins when a female lovely named Ol...  \n",
       "4  Chev Chelios ( Jason Statham ) is a Los Angele...  "
      ]
     },
     "execution_count": 6,
     "metadata": {},
     "output_type": "execute_result"
    }
   ],
   "source": [
    "summaries.head()"
   ]
  },
  {
   "cell_type": "code",
   "execution_count": 7,
   "metadata": {},
   "outputs": [],
   "source": [
    "questions = questions.merge(summaries.loc[:, ['document_id', 'summary',  'summary_tokenized']], how='left', on='document_id')"
   ]
  },
  {
   "cell_type": "code",
   "execution_count": 8,
   "metadata": {},
   "outputs": [
    {
     "data": {
      "text/html": [
       "<div>\n",
       "<style scoped>\n",
       "    .dataframe tbody tr th:only-of-type {\n",
       "        vertical-align: middle;\n",
       "    }\n",
       "\n",
       "    .dataframe tbody tr th {\n",
       "        vertical-align: top;\n",
       "    }\n",
       "\n",
       "    .dataframe thead th {\n",
       "        text-align: right;\n",
       "    }\n",
       "</style>\n",
       "<table border=\"1\" class=\"dataframe\">\n",
       "  <thead>\n",
       "    <tr style=\"text-align: right;\">\n",
       "      <th></th>\n",
       "      <th>document_id</th>\n",
       "      <th>set</th>\n",
       "      <th>question</th>\n",
       "      <th>answer1</th>\n",
       "      <th>answer2</th>\n",
       "      <th>question_tokenized</th>\n",
       "      <th>answer1_tokenized</th>\n",
       "      <th>answer2_tokenized</th>\n",
       "      <th>summary</th>\n",
       "      <th>summary_tokenized</th>\n",
       "    </tr>\n",
       "  </thead>\n",
       "  <tbody>\n",
       "    <tr>\n",
       "      <th>0</th>\n",
       "      <td>0029bdbe75423337b551e42bb31f9a102785376f</td>\n",
       "      <td>train</td>\n",
       "      <td>Who is Miss Delmer?</td>\n",
       "      <td>the elderly spinster aunt of the Earl de Verse...</td>\n",
       "      <td>She's Captail Delmar's aunt.</td>\n",
       "      <td>Who is Miss Delmer ?</td>\n",
       "      <td>the elderly spinster aunt of the Earl de Verse...</td>\n",
       "      <td>She s Captail Delmar s aunt .</td>\n",
       "      <td>At Madeline Hall, an old mansion-house near S...</td>\n",
       "      <td>At Madeline Hall , an old mansion-house near S...</td>\n",
       "    </tr>\n",
       "    <tr>\n",
       "      <th>1</th>\n",
       "      <td>0029bdbe75423337b551e42bb31f9a102785376f</td>\n",
       "      <td>train</td>\n",
       "      <td>Who does Arabella Mason wed?</td>\n",
       "      <td>Ben Keene, Delmar's valet</td>\n",
       "      <td>Ben Keene</td>\n",
       "      <td>Who does Arabella Mason wed ?</td>\n",
       "      <td>Ben Keene , Delmar s valet</td>\n",
       "      <td>Ben Keene</td>\n",
       "      <td>At Madeline Hall, an old mansion-house near S...</td>\n",
       "      <td>At Madeline Hall , an old mansion-house near S...</td>\n",
       "    </tr>\n",
       "    <tr>\n",
       "      <th>2</th>\n",
       "      <td>0029bdbe75423337b551e42bb31f9a102785376f</td>\n",
       "      <td>train</td>\n",
       "      <td>Who is the bully that steals Percival's lunch?</td>\n",
       "      <td>his teacher, Mr. O'Gallagher</td>\n",
       "      <td>The schoolmaster</td>\n",
       "      <td>Who is the bully that steals Percival s lunch ?</td>\n",
       "      <td>his teacher , Mr. O'Gallagher</td>\n",
       "      <td>The schoolmaster</td>\n",
       "      <td>At Madeline Hall, an old mansion-house near S...</td>\n",
       "      <td>At Madeline Hall , an old mansion-house near S...</td>\n",
       "    </tr>\n",
       "    <tr>\n",
       "      <th>3</th>\n",
       "      <td>0029bdbe75423337b551e42bb31f9a102785376f</td>\n",
       "      <td>train</td>\n",
       "      <td>Who does Percival convince the Pirates to spare?</td>\n",
       "      <td>a rich Dutch merchant and his daughter Minnie</td>\n",
       "      <td>A Dutch Merchant and his daughter</td>\n",
       "      <td>Who does Percival convince the Pirates to spare ?</td>\n",
       "      <td>a rich Dutch merchant and his daughter Minnie</td>\n",
       "      <td>A Dutch Merchant and his daughter</td>\n",
       "      <td>At Madeline Hall, an old mansion-house near S...</td>\n",
       "      <td>At Madeline Hall , an old mansion-house near S...</td>\n",
       "    </tr>\n",
       "    <tr>\n",
       "      <th>4</th>\n",
       "      <td>0029bdbe75423337b551e42bb31f9a102785376f</td>\n",
       "      <td>train</td>\n",
       "      <td>Who lives at Madeline Hall?</td>\n",
       "      <td>Miss Delmar</td>\n",
       "      <td>Miss Delmar</td>\n",
       "      <td>Who lives at Madeline Hall ?</td>\n",
       "      <td>Miss Delmar</td>\n",
       "      <td>Miss Delmar</td>\n",
       "      <td>At Madeline Hall, an old mansion-house near S...</td>\n",
       "      <td>At Madeline Hall , an old mansion-house near S...</td>\n",
       "    </tr>\n",
       "  </tbody>\n",
       "</table>\n",
       "</div>"
      ],
      "text/plain": [
       "                                document_id    set  \\\n",
       "0  0029bdbe75423337b551e42bb31f9a102785376f  train   \n",
       "1  0029bdbe75423337b551e42bb31f9a102785376f  train   \n",
       "2  0029bdbe75423337b551e42bb31f9a102785376f  train   \n",
       "3  0029bdbe75423337b551e42bb31f9a102785376f  train   \n",
       "4  0029bdbe75423337b551e42bb31f9a102785376f  train   \n",
       "\n",
       "                                           question  \\\n",
       "0                               Who is Miss Delmer?   \n",
       "1                      Who does Arabella Mason wed?   \n",
       "2    Who is the bully that steals Percival's lunch?   \n",
       "3  Who does Percival convince the Pirates to spare?   \n",
       "4                       Who lives at Madeline Hall?   \n",
       "\n",
       "                                             answer1  \\\n",
       "0  the elderly spinster aunt of the Earl de Verse...   \n",
       "1                          Ben Keene, Delmar's valet   \n",
       "2                       his teacher, Mr. O'Gallagher   \n",
       "3      a rich Dutch merchant and his daughter Minnie   \n",
       "4                                        Miss Delmar   \n",
       "\n",
       "                             answer2  \\\n",
       "0       She's Captail Delmar's aunt.   \n",
       "1                          Ben Keene   \n",
       "2                   The schoolmaster   \n",
       "3  A Dutch Merchant and his daughter   \n",
       "4                        Miss Delmar   \n",
       "\n",
       "                                  question_tokenized  \\\n",
       "0                               Who is Miss Delmer ?   \n",
       "1                      Who does Arabella Mason wed ?   \n",
       "2    Who is the bully that steals Percival s lunch ?   \n",
       "3  Who does Percival convince the Pirates to spare ?   \n",
       "4                       Who lives at Madeline Hall ?   \n",
       "\n",
       "                                   answer1_tokenized  \\\n",
       "0  the elderly spinster aunt of the Earl de Verse...   \n",
       "1                         Ben Keene , Delmar s valet   \n",
       "2                      his teacher , Mr. O'Gallagher   \n",
       "3      a rich Dutch merchant and his daughter Minnie   \n",
       "4                                        Miss Delmar   \n",
       "\n",
       "                   answer2_tokenized  \\\n",
       "0      She s Captail Delmar s aunt .   \n",
       "1                          Ben Keene   \n",
       "2                   The schoolmaster   \n",
       "3  A Dutch Merchant and his daughter   \n",
       "4                        Miss Delmar   \n",
       "\n",
       "                                             summary  \\\n",
       "0   At Madeline Hall, an old mansion-house near S...   \n",
       "1   At Madeline Hall, an old mansion-house near S...   \n",
       "2   At Madeline Hall, an old mansion-house near S...   \n",
       "3   At Madeline Hall, an old mansion-house near S...   \n",
       "4   At Madeline Hall, an old mansion-house near S...   \n",
       "\n",
       "                                   summary_tokenized  \n",
       "0  At Madeline Hall , an old mansion-house near S...  \n",
       "1  At Madeline Hall , an old mansion-house near S...  \n",
       "2  At Madeline Hall , an old mansion-house near S...  \n",
       "3  At Madeline Hall , an old mansion-house near S...  \n",
       "4  At Madeline Hall , an old mansion-house near S...  "
      ]
     },
     "execution_count": 8,
     "metadata": {},
     "output_type": "execute_result"
    }
   ],
   "source": [
    "questions.head()"
   ]
  },
  {
   "cell_type": "markdown",
   "metadata": {},
   "source": [
    "# Vector entity similarity"
   ]
  },
  {
   "cell_type": "markdown",
   "metadata": {},
   "source": [
    "## Full docs - 3 sentences"
   ]
  },
  {
   "cell_type": "code",
   "execution_count": 4,
   "metadata": {},
   "outputs": [
    {
     "name": "stderr",
     "output_type": "stream",
     "text": [
      "100%|██████████████████████████████████████| 767/767 [5:06:29<00:00, 23.98s/it]\n"
     ]
    }
   ],
   "source": [
    "# Processing a doc with spacy takes the most time so we batch quesitons for the same doc together\n",
    "grouped = questions.groupby('document_id')\n",
    "len_grouped = len(grouped)\n",
    "for doc_id, group in tqdm(grouped, total=len_grouped):\n",
    "    data_set = group['set'].tolist()[0]\n",
    "    q_list = [nlp_simple(q) for q in group['question'].tolist()]\n",
    "    q_list_tokenized = []\n",
    "    for q in q_list:\n",
    "        tokenized = ' '.join([token.text for token in q])\n",
    "        tokenized = re.sub('[\\s]+', ' ', tokenized)\n",
    "        q_list_tokenized.append(tokenized)\n",
    "        \n",
    "    best_similarity_score = [0.0] * len(q_list)\n",
    "    best_sent_triple = [''] * len(q_list)\n",
    "    \n",
    "    # Process new doc\n",
    "    with codecs.open('../../data/clean/'+ doc_id +'-clean.content', 'r', \n",
    "                     encoding='utf-8', errors='ignore') as f:\n",
    "        text = f.read()\n",
    "            \n",
    "    # Process doc in chunks of 500,000 characters\n",
    "    chunk_size = 500000\n",
    "    for start, end in zip(range(0, len(text), chunk_size), range(chunk_size, len(text)+chunk_size, chunk_size)):\n",
    "        doc = nlp_simple(text[start:end])\n",
    "\n",
    "        sent_stack = []\n",
    "        for sent in doc.sents:\n",
    "            # create groups of 3 sentences\n",
    "            if len(sent_stack) < 3:\n",
    "                sent_stack.append(sent)\n",
    "            else:\n",
    "                sent_stack.pop(0)\n",
    "                sent_stack.append(sent)\n",
    "                sent_triple = doc[sent_stack[0].start:sent_stack[-1].end]\n",
    "                \n",
    "                for i,q in enumerate(q_list):\n",
    "                    similarity_score = sent_triple.similarity(q)\n",
    "                    if similarity_score > best_similarity_score[i]:\n",
    "                        best_similarity_score[i] = similarity_score\n",
    "                        best_sent_triple[i] = ' '.join([token.text for token in sent_triple])\n",
    "    \n",
    "    #with open('../../data/most_similar_sentence_triples_{}.txt'.format(data_set), 'a') as f:\n",
    "    with codecs.open('../../data/most_similar_sentence_triples_{}.txt'.format(data_set), 'a', \n",
    "                     encoding='utf-8', errors='ignore') as f:\n",
    "        for best, q in zip(best_sent_triple, q_list_tokenized):\n",
    "            best = re.sub('[\\s]+', ' ', best)\n",
    "            f.write(best + ' <d> ' + q + '\\n')"
   ]
  },
  {
   "cell_type": "markdown",
   "metadata": {},
   "source": [
    "write tokenized answers"
   ]
  },
  {
   "cell_type": "code",
   "execution_count": 5,
   "metadata": {},
   "outputs": [],
   "source": [
    "for i, row in questions.iterrows():\n",
    "    a = nlp_simple(row['answer1'])\n",
    "    a = ' '.join([token.text for token in a])\n",
    "    a = re.sub('[\\s]+', ' ', a)\n",
    "    \n",
    "    with codecs.open('../../data/answers_{}.txt'.format(row['set']), 'a', \n",
    "                     encoding='utf-8', errors='ignore') as f:\n",
    "        f.write(a + '\\n')"
   ]
  },
  {
   "cell_type": "markdown",
   "metadata": {},
   "source": [
    "generate vocab"
   ]
  },
  {
   "cell_type": "code",
   "execution_count": 60,
   "metadata": {},
   "outputs": [
    {
     "name": "stderr",
     "output_type": "stream",
     "text": [
      "100%|████████████████████████████████████████| 783/783 [54:45<00:00,  4.20s/it]\n"
     ]
    }
   ],
   "source": [
    "from preshed.counter import PreshCounter\n",
    "from spacy.attrs import ORTH\n",
    "\n",
    "counts_train = PreshCounter()\n",
    "counts_valid = PreshCounter()\n",
    "counts_test = PreshCounter()\n",
    "nlp_en = spacy.blank('en')\n",
    "\n",
    "for i, row in tqdm(docs_index.iterrows(), total=len(docs_index)):\n",
    "    with codecs.open('../../data/clean/'+ row['document_id'] +'-clean.content', 'r', \n",
    "                     encoding='utf-8', errors='ignore') as f:\n",
    "        text = f.read()\n",
    "        \n",
    "    doc = nlp_en.tokenizer(text)\n",
    "    \n",
    "    if row['set'] == 'train':\n",
    "        for word in doc:\n",
    "            counts_train.inc(word.orth, 1)\n",
    "    elif row['set'] == 'valid':\n",
    "        for word in doc:\n",
    "            counts_valid.inc(word.orth, 1)\n",
    "    elif row['set'] == 'test':\n",
    "        for word in doc:\n",
    "            counts_test.inc(word.orth, 1)\n",
    "    \n",
    "    #for word_id, count in counts:\n",
    "    #    print(count, nlp.vocab.strings[word_id])\n",
    "    \n",
    "for i, row in questions.iterrows():\n",
    "    doc = nlp_en.tokenizer(row['question'])\n",
    "    \n",
    "    if row['set'] == 'train':\n",
    "        for word in doc:\n",
    "            counts_train.inc(word.orth, 1)\n",
    "    elif row['set'] == 'valid':\n",
    "        for word in doc:\n",
    "            counts_valid.inc(word.orth, 1)\n",
    "    elif row['set'] == 'test':\n",
    "        for word in doc:\n",
    "            counts_test.inc(word.orth, 1)\n",
    "            \n",
    "    doc = nlp_en.tokenizer(row['answer1'])\n",
    "    \n",
    "    if row['set'] == 'train':\n",
    "        for word in doc:\n",
    "            counts_train.inc(word.orth, 1)\n",
    "    elif row['set'] == 'valid':\n",
    "        for word in doc:\n",
    "            counts_valid.inc(word.orth, 1)\n",
    "    elif row['set'] == 'test':\n",
    "        for word in doc:\n",
    "            counts_test.inc(word.orth, 1)"
   ]
  },
  {
   "cell_type": "code",
   "execution_count": 66,
   "metadata": {},
   "outputs": [],
   "source": [
    "import pickle\n",
    "with open('../../data/counts_valid.pkl', 'wb') as f:\n",
    "    pickle.dump(counts_valid, f)"
   ]
  },
  {
   "cell_type": "markdown",
   "metadata": {},
   "source": [
    "write vocab"
   ]
  },
  {
   "cell_type": "code",
   "execution_count": 50,
   "metadata": {},
   "outputs": [],
   "source": [
    "temp = [(word_id, count) for word_id, count in counts_test]\n",
    "temp.sort(key=lambda x: x[1], reverse=True)\n",
    "\n",
    "with codecs.open('../../data/vocab_test.q', 'a', \n",
    "                 encoding='utf-8', errors='ignore') as f:\n",
    "    for word_id, count in temp:\n",
    "        temp_word = nlp_en.vocab.strings[word_id].strip()\n",
    "        if len(temp_word) != 0:\n",
    "            f.write('{}\\n'.format(temp_word))"
   ]
  },
  {
   "cell_type": "markdown",
   "metadata": {},
   "source": [
    "## Summary - 3 sentences"
   ]
  },
  {
   "cell_type": "code",
   "execution_count": 13,
   "metadata": {},
   "outputs": [
    {
     "name": "stderr",
     "output_type": "stream",
     "text": [
      "100%|██████████████████████████████████████| 5707/5707 [16:13<00:00,  5.87it/s]\n"
     ]
    }
   ],
   "source": [
    "# Processing a doc with spacy takes the most time so we batch quesitons for the same doc together\n",
    "for i, row in tqdm(questions.iterrows(), total=len(questions)):\n",
    "    q = nlp_simple(row['question'])\n",
    "    q_tokenized = ' '.join([token.text for token in q])\n",
    "    q_tokenized = re.sub('[\\s]+', ' ', q_tokenized)\n",
    "    \n",
    "    best_similarity_score = 0.0\n",
    "    best_sent_triple = ''\n",
    "    doc = nlp_simple(row['summary'])\n",
    "\n",
    "    sent_stack = []\n",
    "    for sent in doc.sents:\n",
    "        # create groups of 3 sentences\n",
    "        if len(sent_stack) < 3:\n",
    "            sent_stack.append(sent)\n",
    "        else:\n",
    "            sent_stack.pop(0)\n",
    "            sent_stack.append(sent)\n",
    "            sent_triple = doc[sent_stack[0].start:sent_stack[-1].end]\n",
    "\n",
    "            similarity_score = sent_triple.similarity(q)\n",
    "            if similarity_score > best_similarity_score:\n",
    "                best_similarity_score = similarity_score\n",
    "                best_sent_triple = ' '.join([token.text for token in sent_triple])\n",
    "    \n",
    "    with codecs.open('../../data/summary_most_similar_sentence_triples_{}.txt'.format(row['set']), 'a', \n",
    "                     encoding='utf-8', errors='ignore') as f:\n",
    "        best = re.sub('[\\s]+', ' ', best_sent_triple)\n",
    "        f.write(best + ' <d> ' + q_tokenized + '\\n')"
   ]
  },
  {
   "cell_type": "code",
   "execution_count": 31,
   "metadata": {},
   "outputs": [
    {
     "name": "stderr",
     "output_type": "stream",
     "text": [
      "100%|██████████████████████████████████████| 5707/5707 [02:02<00:00, 46.70it/s]\n"
     ]
    }
   ],
   "source": [
    "from preshed.counter import PreshCounter\n",
    "from spacy.attrs import ORTH\n",
    "\n",
    "counts_train = PreshCounter()\n",
    "counts_valid = PreshCounter()\n",
    "counts_test = PreshCounter()\n",
    "nlp_en = spacy.blank('en')\n",
    "\n",
    "for i, row in tqdm(questions.iterrows(), total=len(questions)):\n",
    "    doc = nlp_en.tokenizer(row['summary_tokenized'])\n",
    "    \n",
    "    if row['set'] == 'train':\n",
    "        for word in doc:\n",
    "            counts_train.inc(word.orth, 1)\n",
    "    elif row['set'] == 'valid':\n",
    "        for word in doc:\n",
    "            counts_valid.inc(word.orth, 1)\n",
    "    elif row['set'] == 'test':\n",
    "        for word in doc:\n",
    "            counts_test.inc(word.orth, 1)\n",
    "            \n",
    "    doc = nlp_en.tokenizer(row['question_tokenized'])\n",
    "    \n",
    "    if row['set'] == 'train':\n",
    "        for word in doc:\n",
    "            counts_train.inc(word.orth, 1)\n",
    "    elif row['set'] == 'valid':\n",
    "        for word in doc:\n",
    "            counts_valid.inc(word.orth, 1)\n",
    "    elif row['set'] == 'test':\n",
    "        for word in doc:\n",
    "            counts_test.inc(word.orth, 1)"
   ]
  },
  {
   "cell_type": "code",
   "execution_count": 34,
   "metadata": {},
   "outputs": [],
   "source": [
    "temp = [(word_id, count) for word_id, count in counts_valid]\n",
    "temp.sort(key=lambda x: x[1], reverse=True)\n",
    "\n",
    "with codecs.open('../../data/vocab_summary_valid.q', 'a', \n",
    "                 encoding='utf-8', errors='ignore') as f:\n",
    "    for word_id, count in temp:\n",
    "        temp_word = nlp_en.vocab.strings[word_id].strip()\n",
    "        if len(temp_word) != 0:\n",
    "            f.write('{}\\n'.format(temp_word))"
   ]
  },
  {
   "cell_type": "code",
   "execution_count": 22,
   "metadata": {},
   "outputs": [],
   "source": [
    "# write summaries\n",
    "with codecs.open('../../data/summaries_test.q', 'a', encoding='utf-8', errors='ignore') as f:\n",
    "    for i,row in questions.iterrows():\n",
    "        if row['set'] == 'test':\n",
    "            f.write(row['summary_tokenized'] + ' <d> ' + row['question_tokenized'] + '\\n')"
   ]
  },
  {
   "cell_type": "code",
   "execution_count": 14,
   "metadata": {},
   "outputs": [],
   "source": [
    "token_lens = []\n",
    "with codecs.open('../../data/summary_most_similar_sentence_triples_train.txt', 'r', encoding='utf-8', errors='ignore') as f:\n",
    "    for line in f:\n",
    "        token_lens.append(len(f.readline().split()))"
   ]
  },
  {
   "cell_type": "code",
   "execution_count": 17,
   "metadata": {},
   "outputs": [
    {
     "name": "stderr",
     "output_type": "stream",
     "text": [
      "D:\\ProgramData\\Anaconda3\\envs\\narrativeqa\\lib\\site-packages\\matplotlib\\axes\\_axes.py:6462: UserWarning: The 'normed' kwarg is deprecated, and has been replaced by the 'density' kwarg.\n",
      "  warnings.warn(\"The 'normed' kwarg is deprecated, and has been \"\n"
     ]
    },
    {
     "data": {
      "text/plain": [
       "<matplotlib.axes._subplots.AxesSubplot at 0xc2ffbbfd68>"
      ]
     },
     "execution_count": 17,
     "metadata": {},
     "output_type": "execute_result"
    },
    {
     "data": {
      "image/png": "[encoded data removed]",
      "text/plain": [
       "<Figure size 432x288 with 1 Axes>"
      ]
     },
     "metadata": {},
     "output_type": "display_data"
    }
   ],
   "source": [
    "import seaborn as sns\n",
    "sns.distplot(token_lens)"
   ]
  },
  {
   "cell_type": "code",
   "execution_count": 22,
   "metadata": {},
   "outputs": [],
   "source": [
    "import nltk\n",
    "import itertools"
   ]
  },
  {
   "cell_type": "code",
   "execution_count": 24,
   "metadata": {},
   "outputs": [],
   "source": [
    "with codecs.open('../../data/third_party/most_similar_sentence_triples_train.q', 'r', encoding='utf-8', errors='ignore') as f:\n",
    "    qlines = f.readlines()\n",
    "    \n",
    "with codecs.open('../../data/third_party/summaries_train.a', 'r', encoding='utf-8', errors='ignore') as f:\n",
    "    alines = f.readlines()\n",
    "\n",
    "qtokenized = [ line.split(' ') for line in qlines ]\n",
    "atokenized = [ line.split(' ') for line in alines ]\n",
    "\n",
    "def index_(tokenized_sentences, vocab_size):\n",
    "    # get frequency distribution\n",
    "\n",
    "    freq_dist = nltk.FreqDist(itertools.chain(*tokenized_sentences))\n",
    "    # get vocabulary of 'vocab_size' most used words\n",
    "\n",
    "    vocab = freq_dist.most_common(vocab_size)\n",
    "    # index2word\n",
    "\n",
    "    index2word = ['_'] + ['<unk>'] + [ x[0] for x in vocab ]\n",
    "    # word2index\n",
    "\n",
    "    word2index = dict([(w,i) for i,w in enumerate(index2word)] )\n",
    "    return index2word, word2index, freq_dist\n",
    "\n",
    "idx2w, w2idx, freq_dist = index_( qtokenized + atokenized, vocab_size=1000000)"
   ]
  },
  {
   "cell_type": "code",
   "execution_count": 66,
   "metadata": {},
   "outputs": [],
   "source": [
    "with codecs.open('../../data/third_party/most_similar_sentence_triples_valid.q', 'r', encoding='utf-8', errors='ignore') as f:\n",
    "    qlines = f.readlines()\n",
    "    \n",
    "with codecs.open('../../data/third_party/summaries_valid.a', 'r', encoding='utf-8', errors='ignore') as f:\n",
    "    alines = f.readlines()\n",
    "\n",
    "    \n",
    "qtokenized = [ line.split(' ') for line in qlines ]\n",
    "atokenized = [ line.split(' ') for line in alines ]"
   ]
  },
  {
   "cell_type": "code",
   "execution_count": 67,
   "metadata": {},
   "outputs": [
    {
     "name": "stdout",
     "output_type": "stream",
     "text": [
      "21843 1699\n",
      "3001 1196\n"
     ]
    }
   ],
   "source": [
    "count = 0\n",
    "count_unk = 0\n",
    "words = []\n",
    "words_unk = []\n",
    "\n",
    "for line in qtokenized:\n",
    "    for token in line:\n",
    "        if token in w2idx:\n",
    "            count += 1\n",
    "            words.append(token)\n",
    "        else:\n",
    "            count_unk += 1\n",
    "            words_unk.append(token)\n",
    "        \n",
    "print(count, count_unk)\n",
    "print(len(set(words)), len(set(words_unk)))"
   ]
  },
  {
   "cell_type": "code",
   "execution_count": 68,
   "metadata": {},
   "outputs": [
    {
     "name": "stdout",
     "output_type": "stream",
     "text": [
      "838 352\n",
      "336 280\n"
     ]
    }
   ],
   "source": [
    "count = 0\n",
    "count_unk = 0\n",
    "words = []\n",
    "words_unk = []\n",
    "\n",
    "for line in atokenized:\n",
    "    for token in line:\n",
    "        if token in w2idx:\n",
    "            count += 1\n",
    "            words.append(token)\n",
    "        else:\n",
    "            count_unk += 1\n",
    "            words_unk.append(token)\n",
    "        \n",
    "print(count, count_unk)\n",
    "print(len(set(words)), len(set(words_unk)))"
   ]
  },
  {
   "cell_type": "code",
   "execution_count": 38,
   "metadata": {},
   "outputs": [
    {
     "data": {
      "text/plain": [
       "20785"
      ]
     },
     "execution_count": 38,
     "metadata": {},
     "output_type": "execute_result"
    }
   ],
   "source": [
    "len(freq_dist.items())"
   ]
  },
  {
   "cell_type": "code",
   "execution_count": 50,
   "metadata": {},
   "outputs": [
    {
     "data": {
      "text/plain": [
       "[('the', 11007),\n",
       " (',', 8771),\n",
       " ('.', 6640),\n",
       " ('to', 6058),\n",
       " ('of', 5641),\n",
       " ('and', 4479),\n",
       " ('Who', 4284),\n",
       " ('?\\n', 4021),\n",
       " ('<d>', 4016),\n",
       " ('a', 3821)]"
      ]
     },
     "execution_count": 50,
     "metadata": {},
     "output_type": "execute_result"
    }
   ],
   "source": [
    "freq_dist.most_common(10)"
   ]
  },
  {
   "cell_type": "code",
   "execution_count": 51,
   "metadata": {},
   "outputs": [
    {
     "name": "stdout",
     "output_type": "stream",
     "text": [
      "10163\n"
     ]
    },
    {
     "data": {
      "text/plain": [
       "246286"
      ]
     },
     "execution_count": 51,
     "metadata": {},
     "output_type": "execute_result"
    }
   ],
   "source": [
    "print(np.sum([v <= 1 for v in freq_dist.values()]))\n",
    "np.sum([v for v in freq_dist.values()])"
   ]
  },
  {
   "cell_type": "code",
   "execution_count": 36,
   "metadata": {},
   "outputs": [
    {
     "name": "stderr",
     "output_type": "stream",
     "text": [
      "D:\\ProgramData\\Anaconda3\\envs\\narrativeqa\\lib\\site-packages\\matplotlib\\axes\\_axes.py:6462: UserWarning: The 'normed' kwarg is deprecated, and has been replaced by the 'density' kwarg.\n",
      "  warnings.warn(\"The 'normed' kwarg is deprecated, and has been \"\n"
     ]
    },
    {
     "data": {
      "text/plain": [
       "<matplotlib.axes._subplots.AxesSubplot at 0xc300603390>"
      ]
     },
     "execution_count": 36,
     "metadata": {},
     "output_type": "execute_result"
    },
    {
     "data": {
      "image/png": "[encoded data removed]",
      "text/plain": [
       "<Figure size 432x288 with 1 Axes>"
      ]
     },
     "metadata": {},
     "output_type": "display_data"
    }
   ],
   "source": [
    "sns.distplot([v for v in freq_dist.values()])"
   ]
  },
  {
   "cell_type": "markdown",
   "metadata": {},
   "source": [
    "## Ents"
   ]
  },
  {
   "cell_type": "code",
   "execution_count": 4,
   "metadata": {},
   "outputs": [],
   "source": [
    "def clean_ent_ws(ent):\n",
    "    return re.sub('[\\s]+', ' ', ent.text.strip())\n",
    "\n",
    "def get_people_ents_and_mentions(doc):\n",
    "    people_ents = []\n",
    "    for ent in doc.ents:\n",
    "        # Get person entities\n",
    "        if ent.label_ is 'PERSON':\n",
    "            people_ents.append(ent)\n",
    "            \n",
    "    ent_mentions = Counter([clean_ent_ws(ent) for ent in people_ents])\n",
    "    #ent_mentions = [k for k,v in ent_mentions.items() if v >= 5 and len(k) > 2]\n",
    "    return people_ents, ent_mentions\n",
    "\n",
    "def get_ent_most_similar(people_ents, question):\n",
    "    ent_similarity = {}\n",
    "    \n",
    "    for ent in people_ents:\n",
    "        similarity = ent.sent.similarity(question)\n",
    "\n",
    "        ent_str = clean_ent_ws(ent)\n",
    "        if (ent_str not in ent_similarity or \n",
    "                ent_similarity[ent_str]['similarity'] < similarity):\n",
    "            ent_similarity[ent_str] = {\n",
    "                'question': question.text,\n",
    "                'similarity': similarity,\n",
    "                'sentence': ent.sent.text,\n",
    "                'sent_start_char': ent.sent.start_char,\n",
    "                'sent_end_char': ent.sent.end_char\n",
    "            }\n",
    "            \n",
    "    return ent_similarity"
   ]
  },
  {
   "cell_type": "code",
   "execution_count": 5,
   "metadata": {},
   "outputs": [
    {
     "name": "stderr",
     "output_type": "stream",
     "text": [
      "100%|████████████████████████████████████| 5707/5707 [5:04:49<00:00,  3.20s/it]\n"
     ]
    }
   ],
   "source": [
    "previous_doc_id = ''\n",
    "output_csv = ''\n",
    "output_df = pd.DataFrame()\n",
    "\n",
    "for i, row in tqdm(questions.iterrows(), total=len(questions)):\n",
    "    if row['document_id'] != previous_doc_id:\n",
    "        # process new doc\n",
    "        with codecs.open('../../data/clean/'+ row['document_id'] +'-clean.content', 'r', \n",
    "                         encoding='utf-8', errors='ignore') as f:\n",
    "            text = f.read()\n",
    "            \n",
    "        # Process doc in chunks of 500,000 characters\n",
    "        chunk_size = 500000\n",
    "        people_ents_total = []\n",
    "        ent_mentions_total = {}\n",
    "        chunk_num = 0\n",
    "        for start, end in zip(range(0, len(text), chunk_size), range(chunk_size, len(text)+chunk_size, chunk_size)):\n",
    "            doc = nlp(text[start:end])\n",
    "\n",
    "            # processing on doc chunk\n",
    "            people_ents, ent_mentions = get_people_ents_and_mentions(doc)\n",
    "\n",
    "            # combine people_ents and ent_mentions from other chunks\n",
    "            people_ents_total.extend(people_ents)\n",
    "            for k,v in ent_mentions.items():\n",
    "                if k not in ent_mentions_total:\n",
    "                    ent_mentions_total.update({k: v})\n",
    "                else:\n",
    "                    ent_mentions_total[k] = ent_mentions_total[k] + v\n",
    "\n",
    "        # Final data structures\n",
    "        ent_mentions_total = [k for k,v in ent_mentions_total.items() if v >= 5 and len(k) > 2]\n",
    "        people_ents_total = [ent for ent in people_ents_total if clean_ent_ws(ent) in ent_mentions_total]\n",
    "        \n",
    "        csv_output_id = previous_doc_id\n",
    "        previous_doc_id = row['document_id']\n",
    "        \n",
    "    else:\n",
    "        # use already processed doc\n",
    "        pass\n",
    "    \n",
    "    # Question-sentence similarity\n",
    "    question = nlp(row['question'])\n",
    "    ent_similarity = get_ent_most_similar(people_ents_total, question)\n",
    "    \n",
    "    if csv_output_id != '' and len(output_df) != 0:\n",
    "        # If we reach the end of a set of doc questions then output csv\n",
    "        output_df.to_csv('../../data/ent_candidates/'+ csv_output_id +'-candidates.csv', index=False)\n",
    "        output_df = pd.DataFrame()\n",
    "        csv_output_id = ''\n",
    "    elif i == len(questions) - 1:\n",
    "        # Output csv of the last iteration\n",
    "        df = pd.DataFrame.from_dict(ent_similarity, orient='index')\n",
    "        df.reset_index(level=0, inplace=True)\n",
    "        df.rename(columns={'index':'entity'}, inplace=True)\n",
    "        df['document_id'] = row['document_id']\n",
    "        output_df = pd.concat([output_df, df])\n",
    "    \n",
    "        output_df.to_csv('../../data/ent_candidates/'+ row['document_id'] +'-candidates.csv', index=False)\n",
    "        output_df = pd.DataFrame()\n",
    "        csv_output_id = ''\n",
    "        \n",
    "    # Append question record to datafram for this document\n",
    "    df = pd.DataFrame.from_dict(ent_similarity, orient='index')\n",
    "    df.reset_index(level=0, inplace=True)\n",
    "    df.rename(columns={'index':'entity'}, inplace=True)\n",
    "    df['document_id'] = row['document_id']\n",
    "    output_df = pd.concat([output_df, df])"
   ]
  },
  {
   "cell_type": "markdown",
   "metadata": {},
   "source": [
    "# Answer estimation"
   ]
  },
  {
   "cell_type": "code",
   "execution_count": 108,
   "metadata": {},
   "outputs": [
    {
     "data": {
      "text/html": [
       "<div>\n",
       "<style scoped>\n",
       "    .dataframe tbody tr th:only-of-type {\n",
       "        vertical-align: middle;\n",
       "    }\n",
       "\n",
       "    .dataframe tbody tr th {\n",
       "        vertical-align: top;\n",
       "    }\n",
       "\n",
       "    .dataframe thead th {\n",
       "        text-align: right;\n",
       "    }\n",
       "</style>\n",
       "<table border=\"1\" class=\"dataframe\">\n",
       "  <thead>\n",
       "    <tr style=\"text-align: right;\">\n",
       "      <th></th>\n",
       "      <th>document_id</th>\n",
       "      <th>set</th>\n",
       "      <th>question</th>\n",
       "      <th>answer1</th>\n",
       "      <th>answer2</th>\n",
       "      <th>question_tokenized</th>\n",
       "      <th>answer1_tokenized</th>\n",
       "      <th>answer2_tokenized</th>\n",
       "    </tr>\n",
       "  </thead>\n",
       "  <tbody>\n",
       "    <tr>\n",
       "      <th>2000</th>\n",
       "      <td>5adcaefee3be670642adf44400e9da6f0235eff7</td>\n",
       "      <td>train</td>\n",
       "      <td>Who is the love of George Stransom's life?</td>\n",
       "      <td>Mary Antrim.</td>\n",
       "      <td>Mary Antrim</td>\n",
       "      <td>Who is the love of George Stransom s life ?</td>\n",
       "      <td>Mary Antrim .</td>\n",
       "      <td>Mary Antrim</td>\n",
       "    </tr>\n",
       "    <tr>\n",
       "      <th>2001</th>\n",
       "      <td>5adcaefee3be670642adf44400e9da6f0235eff7</td>\n",
       "      <td>train</td>\n",
       "      <td>Who is the one person that Stransom refuses to light a candle for?</td>\n",
       "      <td>Acton Hague.</td>\n",
       "      <td>Acton Hague</td>\n",
       "      <td>Who is the one person that Stransom refuses to light a candle for ?</td>\n",
       "      <td>Acton Hague .</td>\n",
       "      <td>Acton Hague</td>\n",
       "    </tr>\n",
       "    <tr>\n",
       "      <th>2002</th>\n",
       "      <td>5adcaefee3be670642adf44400e9da6f0235eff7</td>\n",
       "      <td>train</td>\n",
       "      <td>Who is Mary Antrim asking Stransom to forgive?</td>\n",
       "      <td>Hague.</td>\n",
       "      <td>Acton Hague</td>\n",
       "      <td>Who is Mary Antrim asking Stransom to forgive ?</td>\n",
       "      <td>Hague .</td>\n",
       "      <td>Acton Hague</td>\n",
       "    </tr>\n",
       "    <tr>\n",
       "      <th>2003</th>\n",
       "      <td>5adcaefee3be670642adf44400e9da6f0235eff7</td>\n",
       "      <td>train</td>\n",
       "      <td>Who does Stransom meet at the alter also honoring the dead?</td>\n",
       "      <td>A woman.</td>\n",
       "      <td>A woman</td>\n",
       "      <td>Who does Stransom meet at the alter also honoring the dead ?</td>\n",
       "      <td>A woman .</td>\n",
       "      <td>A woman</td>\n",
       "    </tr>\n",
       "    <tr>\n",
       "      <th>2004</th>\n",
       "      <td>5ae39df9a568442600cbc2ff2c223e87f2ed4acf</td>\n",
       "      <td>train</td>\n",
       "      <td>Who is going on a journey with his brother Sssuri?</td>\n",
       "      <td>Dalgard Nordis</td>\n",
       "      <td>Dalgard</td>\n",
       "      <td>Who is going on a journey with his brother Sssuri ?</td>\n",
       "      <td>Dalgard Nordis</td>\n",
       "      <td>Dalgard</td>\n",
       "    </tr>\n",
       "    <tr>\n",
       "      <th>2005</th>\n",
       "      <td>5ae39df9a568442600cbc2ff2c223e87f2ed4acf</td>\n",
       "      <td>train</td>\n",
       "      <td>Who has the task of assembling and flying an object used for the tenth attempt at exploration?</td>\n",
       "      <td>Raf Kurbi</td>\n",
       "      <td>Raf Kurbi</td>\n",
       "      <td>Who has the task of assembling and flying an object used for the tenth attempt at exploration ?</td>\n",
       "      <td>Raf Kurbi</td>\n",
       "      <td>Raf Kurbi</td>\n",
       "    </tr>\n",
       "    <tr>\n",
       "      <th>2006</th>\n",
       "      <td>5ae39df9a568442600cbc2ff2c223e87f2ed4acf</td>\n",
       "      <td>train</td>\n",
       "      <td>Who returns to the forbidden city to spy?</td>\n",
       "      <td>Dalgard</td>\n",
       "      <td>Dalgard</td>\n",
       "      <td>Who returns to the forbidden city to spy ?</td>\n",
       "      <td>Dalgard</td>\n",
       "      <td>Dalgard</td>\n",
       "    </tr>\n",
       "    <tr>\n",
       "      <th>2007</th>\n",
       "      <td>5ae39df9a568442600cbc2ff2c223e87f2ed4acf</td>\n",
       "      <td>train</td>\n",
       "      <td>Who is safely returned to his ship?</td>\n",
       "      <td>Raf</td>\n",
       "      <td>Raf</td>\n",
       "      <td>Who is safely returned to his ship ?</td>\n",
       "      <td>Raf</td>\n",
       "      <td>Raf</td>\n",
       "    </tr>\n",
       "    <tr>\n",
       "      <th>2008</th>\n",
       "      <td>5ae39df9a568442600cbc2ff2c223e87f2ed4acf</td>\n",
       "      <td>train</td>\n",
       "      <td>Who is Sssuri?</td>\n",
       "      <td>Dalagard's knife brother</td>\n",
       "      <td>Dalagard's knife brother</td>\n",
       "      <td>Who is Sssuri ?</td>\n",
       "      <td>Dalagard s knife brother</td>\n",
       "      <td>Dalagard s knife brother</td>\n",
       "    </tr>\n",
       "    <tr>\n",
       "      <th>2009</th>\n",
       "      <td>5ae39df9a568442600cbc2ff2c223e87f2ed4acf</td>\n",
       "      <td>train</td>\n",
       "      <td>Who do Raf,Dalagard, and the merman encounter in the sewers under the city?</td>\n",
       "      <td>A merman war party.</td>\n",
       "      <td>merman war party</td>\n",
       "      <td>Who do Raf , Dalagard , and the merman encounter in the sewers under the city ?</td>\n",
       "      <td>A merman war party .</td>\n",
       "      <td>merman war party</td>\n",
       "    </tr>\n",
       "    <tr>\n",
       "      <th>2010</th>\n",
       "      <td>5ae39df9a568442600cbc2ff2c223e87f2ed4acf</td>\n",
       "      <td>train</td>\n",
       "      <td>Who do the aliens put Dalgard into an arena with?</td>\n",
       "      <td>A merman and a snake-devil.</td>\n",
       "      <td>a merman and a snake-devil</td>\n",
       "      <td>Who do the aliens put Dalgard into an arena with ?</td>\n",
       "      <td>A merman and a snake-devil .</td>\n",
       "      <td>a merman and a snake-devil</td>\n",
       "    </tr>\n",
       "  </tbody>\n",
       "</table>\n",
       "</div>"
      ],
      "text/plain": [
       "                                   document_id    set  \\\n",
       "2000  5adcaefee3be670642adf44400e9da6f0235eff7  train   \n",
       "2001  5adcaefee3be670642adf44400e9da6f0235eff7  train   \n",
       "2002  5adcaefee3be670642adf44400e9da6f0235eff7  train   \n",
       "2003  5adcaefee3be670642adf44400e9da6f0235eff7  train   \n",
       "2004  5ae39df9a568442600cbc2ff2c223e87f2ed4acf  train   \n",
       "2005  5ae39df9a568442600cbc2ff2c223e87f2ed4acf  train   \n",
       "2006  5ae39df9a568442600cbc2ff2c223e87f2ed4acf  train   \n",
       "2007  5ae39df9a568442600cbc2ff2c223e87f2ed4acf  train   \n",
       "2008  5ae39df9a568442600cbc2ff2c223e87f2ed4acf  train   \n",
       "2009  5ae39df9a568442600cbc2ff2c223e87f2ed4acf  train   \n",
       "2010  5ae39df9a568442600cbc2ff2c223e87f2ed4acf  train   \n",
       "\n",
       "                                                                                            question  \\\n",
       "2000                                                      Who is the love of George Stransom's life?   \n",
       "2001                              Who is the one person that Stransom refuses to light a candle for?   \n",
       "2002                                                  Who is Mary Antrim asking Stransom to forgive?   \n",
       "2003                                     Who does Stransom meet at the alter also honoring the dead?   \n",
       "2004                                              Who is going on a journey with his brother Sssuri?   \n",
       "2005  Who has the task of assembling and flying an object used for the tenth attempt at exploration?   \n",
       "2006                                                       Who returns to the forbidden city to spy?   \n",
       "2007                                                             Who is safely returned to his ship?   \n",
       "2008                                                                                  Who is Sssuri?   \n",
       "2009                     Who do Raf,Dalagard, and the merman encounter in the sewers under the city?   \n",
       "2010                                               Who do the aliens put Dalgard into an arena with?   \n",
       "\n",
       "                          answer1                      answer2  \\\n",
       "2000                 Mary Antrim.                 Mary Antrim    \n",
       "2001                 Acton Hague.                  Acton Hague   \n",
       "2002                       Hague.                  Acton Hague   \n",
       "2003                     A woman.                      A woman   \n",
       "2004               Dalgard Nordis                      Dalgard   \n",
       "2005                    Raf Kurbi                    Raf Kurbi   \n",
       "2006                      Dalgard                      Dalgard   \n",
       "2007                          Raf                          Raf   \n",
       "2008     Dalagard's knife brother     Dalagard's knife brother   \n",
       "2009          A merman war party.             merman war party   \n",
       "2010  A merman and a snake-devil.  a merman and a snake-devil    \n",
       "\n",
       "                                                                                   question_tokenized  \\\n",
       "2000                                                      Who is the love of George Stransom s life ?   \n",
       "2001                              Who is the one person that Stransom refuses to light a candle for ?   \n",
       "2002                                                  Who is Mary Antrim asking Stransom to forgive ?   \n",
       "2003                                     Who does Stransom meet at the alter also honoring the dead ?   \n",
       "2004                                              Who is going on a journey with his brother Sssuri ?   \n",
       "2005  Who has the task of assembling and flying an object used for the tenth attempt at exploration ?   \n",
       "2006                                                       Who returns to the forbidden city to spy ?   \n",
       "2007                                                             Who is safely returned to his ship ?   \n",
       "2008                                                                                  Who is Sssuri ?   \n",
       "2009                  Who do Raf , Dalagard , and the merman encounter in the sewers under the city ?   \n",
       "2010                                               Who do the aliens put Dalgard into an arena with ?   \n",
       "\n",
       "                 answer1_tokenized           answer2_tokenized  \n",
       "2000                 Mary Antrim .                 Mary Antrim  \n",
       "2001                 Acton Hague .                 Acton Hague  \n",
       "2002                       Hague .                 Acton Hague  \n",
       "2003                     A woman .                     A woman  \n",
       "2004                Dalgard Nordis                     Dalgard  \n",
       "2005                     Raf Kurbi                   Raf Kurbi  \n",
       "2006                       Dalgard                     Dalgard  \n",
       "2007                           Raf                         Raf  \n",
       "2008      Dalagard s knife brother    Dalagard s knife brother  \n",
       "2009          A merman war party .            merman war party  \n",
       "2010  A merman and a snake-devil .  a merman and a snake-devil  "
      ]
     },
     "execution_count": 108,
     "metadata": {},
     "output_type": "execute_result"
    }
   ],
   "source": [
    "questions.loc[2000:2010]"
   ]
  },
  {
   "cell_type": "code",
   "execution_count": 74,
   "metadata": {},
   "outputs": [
    {
     "data": {
      "text/html": [
       "<div>\n",
       "<style scoped>\n",
       "    .dataframe tbody tr th:only-of-type {\n",
       "        vertical-align: middle;\n",
       "    }\n",
       "\n",
       "    .dataframe tbody tr th {\n",
       "        vertical-align: top;\n",
       "    }\n",
       "\n",
       "    .dataframe thead th {\n",
       "        text-align: right;\n",
       "    }\n",
       "</style>\n",
       "<table border=\"1\" class=\"dataframe\">\n",
       "  <thead>\n",
       "    <tr style=\"text-align: right;\">\n",
       "      <th></th>\n",
       "      <th>question</th>\n",
       "      <th>answer1</th>\n",
       "    </tr>\n",
       "  </thead>\n",
       "  <tbody>\n",
       "    <tr>\n",
       "      <th>2279</th>\n",
       "      <td>Who does Couny Vronsky have an affair with?</td>\n",
       "      <td>Anna Karenina</td>\n",
       "    </tr>\n",
       "    <tr>\n",
       "      <th>2280</th>\n",
       "      <td>Who is Anna Karenina married to?</td>\n",
       "      <td>Karenin</td>\n",
       "    </tr>\n",
       "    <tr>\n",
       "      <th>2281</th>\n",
       "      <td>Who does Konstantin Levin want to marry?</td>\n",
       "      <td>Princess Kitty</td>\n",
       "    </tr>\n",
       "    <tr>\n",
       "      <th>2282</th>\n",
       "      <td>Who is Princess Kitty's brother-in law?</td>\n",
       "      <td>Oblonsky</td>\n",
       "    </tr>\n",
       "    <tr>\n",
       "      <th>2283</th>\n",
       "      <td>Who is Anna Karenina's husband?</td>\n",
       "      <td>Karenin, a senior government official.</td>\n",
       "    </tr>\n",
       "    <tr>\n",
       "      <th>2284</th>\n",
       "      <td>Who is Anna's brother?</td>\n",
       "      <td>Oblonsky.</td>\n",
       "    </tr>\n",
       "    <tr>\n",
       "      <th>2285</th>\n",
       "      <td>Who does Konstantin Levin eventually marry?</td>\n",
       "      <td>Princess Kitty.</td>\n",
       "    </tr>\n",
       "    <tr>\n",
       "      <th>2286</th>\n",
       "      <td>Who disrupted Anna's family's life at the start of the novel?</td>\n",
       "      <td>Her brother, Oblonsky.</td>\n",
       "    </tr>\n",
       "    <tr>\n",
       "      <th>2287</th>\n",
       "      <td>Who does Anna have an affair with?</td>\n",
       "      <td>Count Vronsky</td>\n",
       "    </tr>\n",
       "    <tr>\n",
       "      <th>2288</th>\n",
       "      <td>Who is Oblonsky's sister-in-law?</td>\n",
       "      <td>Princess Kitty</td>\n",
       "    </tr>\n",
       "  </tbody>\n",
       "</table>\n",
       "</div>"
      ],
      "text/plain": [
       "                                                           question  \\\n",
       "2279                   Who does Couny Vronsky have an affair with?    \n",
       "2280                               Who is Anna Karenina married to?   \n",
       "2281                       Who does Konstantin Levin want to marry?   \n",
       "2282                        Who is Princess Kitty's brother-in law?   \n",
       "2283                                Who is Anna Karenina's husband?   \n",
       "2284                                         Who is Anna's brother?   \n",
       "2285                    Who does Konstantin Levin eventually marry?   \n",
       "2286  Who disrupted Anna's family's life at the start of the novel?   \n",
       "2287                             Who does Anna have an affair with?   \n",
       "2288                               Who is Oblonsky's sister-in-law?   \n",
       "\n",
       "                                     answer1  \n",
       "2279                           Anna Karenina  \n",
       "2280                                 Karenin  \n",
       "2281                          Princess Kitty  \n",
       "2282                                Oblonsky  \n",
       "2283  Karenin, a senior government official.  \n",
       "2284                               Oblonsky.  \n",
       "2285                         Princess Kitty.  \n",
       "2286                  Her brother, Oblonsky.  \n",
       "2287                           Count Vronsky  \n",
       "2288                          Princess Kitty  "
      ]
     },
     "execution_count": 74,
     "metadata": {},
     "output_type": "execute_result"
    }
   ],
   "source": [
    "ent_candidates = pd.read_csv('../../data/ent_candidates/'+ '6bb78f3d321f2a5b63edf9ffcfb4900f73ecd4dc' +'-candidates.csv')\n",
    "ent_candidates = ent_candidates[['document_id', 'question', 'entity', 'sent_start_char', 'sent_end_char', 'sentence']]\n",
    "\n",
    "temp_q = questions.loc[lambda df: df['document_id'] == '6bb78f3d321f2a5b63edf9ffcfb4900f73ecd4dc', ['question', 'answer1']]\n",
    "temp_q"
   ]
  },
  {
   "cell_type": "code",
   "execution_count": 16,
   "metadata": {},
   "outputs": [],
   "source": [
    "ent_candidates['sentence_trim'] = ent_candidates['sentence'].str.replace('[\\s]+', ' ')"
   ]
  },
  {
   "cell_type": "code",
   "execution_count": 24,
   "metadata": {},
   "outputs": [],
   "source": [
    "pd.set_option('max_colwidth', 300)"
   ]
  },
  {
   "cell_type": "code",
   "execution_count": 93,
   "metadata": {},
   "outputs": [],
   "source": [
    "from nltk.metrics import distance\n",
    "\n",
    "def get_matches(answer, entities, match_type, return_binary, threshold=0):\n",
    "    if match_type == 'exact':\n",
    "        if return_binary:\n",
    "            return [1 if ent.lower() == answer.lower() else 0 for ent in entities]\n",
    "        else:\n",
    "            return [ent for ent in entities if ent.lower() == answer.lower()]\n",
    "    elif match_type == 'lev':\n",
    "        if return_binary:\n",
    "            dists = [distance.edit_distance(answer, ent) for ent in entities]\n",
    "            return [1 if d < threshold else 0 for d in dists]\n",
    "        else:\n",
    "            return [distance.edit_distance(answer, ent) for ent in entities]\n",
    "    elif match_type == 'names':\n",
    "        output = []\n",
    "        answer = answer.split()\n",
    "        for ent in entities:\n",
    "            token_match = 0\n",
    "            for token in ent.split():\n",
    "                if token in answer:\n",
    "                    token_match += 1\n",
    "            output.append(token_match / len(answer))\n",
    "        return output"
   ]
  },
  {
   "cell_type": "code",
   "execution_count": 55,
   "metadata": {},
   "outputs": [
    {
     "data": {
      "text/plain": [
       "(0.008333333333333333,\n",
       " 0.0,\n",
       " array([0., 0., 0., 0., 0., 0., 0., 0., 0., 0.]),\n",
       " 1.0)"
      ]
     },
     "execution_count": 55,
     "metadata": {},
     "output_type": "execute_result"
    }
   ],
   "source": [
    "output = get_matches(questions.loc[2280, 'answer1'], \n",
    "                     ent_candidates.loc[lambda df: df['question'] == 'Who is Anna Karenina married to?', 'entity'].values, \n",
    "                     'names', False)\n",
    "\n",
    "np.mean(output), np.median(output), np.percentile(output, np.arange(0, 1, 0.1)), np.max(output)\n",
    "#output"
   ]
  },
  {
   "cell_type": "code",
   "execution_count": 62,
   "metadata": {},
   "outputs": [
    {
     "name": "stdout",
     "output_type": "stream",
     "text": [
      "Agafea Mihalovna\n"
     ]
    }
   ],
   "source": [
    "ent_candidates.loc[lambda df: df['question'] == 'Who is Anna Karenina married to?', 'entity'].values"
   ]
  },
  {
   "cell_type": "code",
   "execution_count": 99,
   "metadata": {},
   "outputs": [
    {
     "data": {
      "text/plain": [
       "767"
      ]
     },
     "execution_count": 99,
     "metadata": {},
     "output_type": "execute_result"
    }
   ],
   "source": [
    "questions['document_id'].nunique()"
   ]
  },
  {
   "cell_type": "code",
   "execution_count": 104,
   "metadata": {},
   "outputs": [
    {
     "name": "stderr",
     "output_type": "stream",
     "text": [
      "100%|██████████████████████████████████████| 5707/5707 [01:18<00:00, 72.39it/s]\n"
     ]
    },
    {
     "name": "stdout",
     "output_type": "stream",
     "text": [
      "3135\n",
      "3135\n",
      "37290\n"
     ]
    }
   ],
   "source": [
    "num_qs_with_match = 0\n",
    "num_docs_with_match = 0\n",
    "doc_match_flag = 0\n",
    "total_output = []\n",
    "previous_doc_id = ''\n",
    "file_not_found_flag = False\n",
    "\n",
    "for i, row in tqdm(questions.iterrows(), total=len(questions)):\n",
    "    if row['document_id'] != previous_doc_id:\n",
    "        try:\n",
    "            ent_candidates = pd.read_csv('../../data/ent_candidates/'+ row['document_id'] +'-candidates.csv')\n",
    "        except FileNotFoundError:\n",
    "            file_not_found_flag = True\n",
    "        else:\n",
    "            file_not_found_flag = False\n",
    "            num_docs_with_match += doc_match_flag\n",
    "            doc_match_flag = 0\n",
    "    \n",
    "    if file_not_found_flag == False:\n",
    "        question = row['question']\n",
    "        answer = row['answer1'].strip()\n",
    "\n",
    "        candidates = ent_candidates.loc[lambda df: df['question'] == question, 'entity'].values\n",
    "        candidates = [c.strip() for c in candidates]\n",
    "        output = get_matches(answer, candidates, 'lev', True, threshold=8)\n",
    "        total_output.extend(output)\n",
    "        if np.sum(output) > 0:\n",
    "            num_qs_with_match += 1\n",
    "            doc_match_flag = 1\n",
    "        \n",
    "num_docs_with_match += doc_match_flag\n",
    "            \n",
    "print(num_qs_with_match)\n",
    "print(num_docs_with_match)\n",
    "print(np.sum(total_output))"
   ]
  },
  {
   "cell_type": "code",
   "execution_count": 44,
   "metadata": {},
   "outputs": [
    {
     "data": {
      "text/plain": [
       "'Varenka'"
      ]
     },
     "execution_count": 44,
     "metadata": {},
     "output_type": "execute_result"
    }
   ],
   "source": [
    "ent_candidates.loc[lambda df: df['question'] == 'Who is Anna Karenina married to?', 'entity'].values[109]"
   ]
  },
  {
   "cell_type": "code",
   "execution_count": 28,
   "metadata": {},
   "outputs": [
    {
     "data": {
      "text/html": [
       "<div>\n",
       "<style scoped>\n",
       "    .dataframe tbody tr th:only-of-type {\n",
       "        vertical-align: middle;\n",
       "    }\n",
       "\n",
       "    .dataframe tbody tr th {\n",
       "        vertical-align: top;\n",
       "    }\n",
       "\n",
       "    .dataframe thead th {\n",
       "        text-align: right;\n",
       "    }\n",
       "</style>\n",
       "<table border=\"1\" class=\"dataframe\">\n",
       "  <thead>\n",
       "    <tr style=\"text-align: right;\">\n",
       "      <th></th>\n",
       "      <th>question</th>\n",
       "      <th>entity</th>\n",
       "      <th>sentence_trim</th>\n",
       "    </tr>\n",
       "  </thead>\n",
       "  <tbody>\n",
       "    <tr>\n",
       "      <th>150</th>\n",
       "      <td>Who is Anna Karenina married to?</td>\n",
       "      <td>John</td>\n",
       "      <td>Sir John was there.</td>\n",
       "    </tr>\n",
       "    <tr>\n",
       "      <th>151</th>\n",
       "      <td>Who is Anna Karenina married to?</td>\n",
       "      <td>Kamerovsky</td>\n",
       "      <td>Kamerovsky got up too, and Vronsky, not waiting for him to go, shook hands and went off to his dressing room.</td>\n",
       "    </tr>\n",
       "    <tr>\n",
       "      <th>152</th>\n",
       "      <td>Who is Anna Karenina married to?</td>\n",
       "      <td>Kapitonitch</td>\n",
       "      <td>All had heard that their mistress had come, and that Kapitonitch had let her in, and that she was even now in the nursery, and that their master always went in person to the nursery at nine o’clock, and every one fully comprehended that it was impossible for the husband and wife to meet, and tha...</td>\n",
       "    </tr>\n",
       "    <tr>\n",
       "      <th>153</th>\n",
       "      <td>Who is Anna Karenina married to?</td>\n",
       "      <td>Karenin</td>\n",
       "      <td>Besides this business, Stepan Arkadyevitch had promised his sister Anna to obtain from Karenin a definite answer on the question of divorce.</td>\n",
       "    </tr>\n",
       "    <tr>\n",
       "      <th>154</th>\n",
       "      <td>Who is Anna Karenina married to?</td>\n",
       "      <td>Katavasov</td>\n",
       "      <td>On the previous day Katavasov had met Levin at a public lecture and told him that the celebrated Metrov, whose article Levin had so much liked, was in Moscow, that he had been much interested by what Katavasov had told him about Levin’s work, and that he was coming to see him tomorrow at eleven,...</td>\n",
       "    </tr>\n",
       "    <tr>\n",
       "      <th>155</th>\n",
       "      <td>Who is Anna Karenina married to?</td>\n",
       "      <td>Katerina Alexandrovna</td>\n",
       "      <td>—I did make an offer and was rejected, and Katerina Alexandrovna is nothing now to me</td>\n",
       "    </tr>\n",
       "    <tr>\n",
       "      <th>156</th>\n",
       "      <td>Who is Anna Karenina married to?</td>\n",
       "      <td>Katya</td>\n",
       "      <td>When the doctor had gone away the sick man said something to his brother, of which Levin could distinguish only the last words: \"Your Katya.</td>\n",
       "    </tr>\n",
       "    <tr>\n",
       "      <th>157</th>\n",
       "      <td>Who is Anna Karenina married to?</td>\n",
       "      <td>Kitty</td>\n",
       "      <td>Then Anna was so happy, and Kitty thought herself unhappy.</td>\n",
       "    </tr>\n",
       "    <tr>\n",
       "      <th>158</th>\n",
       "      <td>Who is Anna Karenina married to?</td>\n",
       "      <td>Konstantin</td>\n",
       "      <td>Not so much from what her mother told her, as from the fact that it was Konstantin</td>\n",
       "    </tr>\n",
       "    <tr>\n",
       "      <th>159</th>\n",
       "      <td>Who is Anna Karenina married to?</td>\n",
       "      <td>Konstantin Dmitrievitch</td>\n",
       "      <td>\"I am telling Konstantin Dmitrievitch about Turovtsin in the scarlet fever,\" she said, bending over to her sister.</td>\n",
       "    </tr>\n",
       "    <tr>\n",
       "      <th>160</th>\n",
       "      <td>Who is Anna Karenina married to?</td>\n",
       "      <td>Konstantin Levin</td>\n",
       "      <td>Konstantin Levin was the only person who had not arrived.</td>\n",
       "    </tr>\n",
       "    <tr>\n",
       "      <th>161</th>\n",
       "      <td>Who is Anna Karenina married to?</td>\n",
       "      <td>Korsunsky</td>\n",
       "      <td>No, I am not going to stay,\" answered Anna, smiling, but in spite of her smile, both Korsunsky and the master of the house saw from her resolute tone that she would not stay.</td>\n",
       "    </tr>\n",
       "    <tr>\n",
       "      <th>162</th>\n",
       "      <td>Who is Anna Karenina married to?</td>\n",
       "      <td>Kouzma</td>\n",
       "      <td>At home Kouzma told Levin that Katerina Alexandrovna was quite well, and that her sisters had not long been gone, and he handed him two letters.</td>\n",
       "    </tr>\n",
       "    <tr>\n",
       "      <th>163</th>\n",
       "      <td>Who is Anna Karenina married to?</td>\n",
       "      <td>Koznishev</td>\n",
       "      <td>To be the wife of a man like Koznishev, after her position with Madame Stahl, was to her imagination the height of happiness.</td>\n",
       "    </tr>\n",
       "    <tr>\n",
       "      <th>164</th>\n",
       "      <td>Who is Anna Karenina married to?</td>\n",
       "      <td>Krak</td>\n",
       "      <td>If he had anything on his mind at that moment, it was only the doubt whether they would start anything in the Kolpensky marsh, whether Laska would show to advantage in comparison with Krak, and whether he would shoot well that day himself.</td>\n",
       "    </tr>\n",
       "    <tr>\n",
       "      <th>165</th>\n",
       "      <td>Who is Anna Karenina married to?</td>\n",
       "      <td>Kritsky</td>\n",
       "      <td>\"You’re of the Kiev university?\" said Konstantin Levin to Kritsky, to break the awkward silence that followed.</td>\n",
       "    </tr>\n",
       "    <tr>\n",
       "      <th>166</th>\n",
       "      <td>Who is Anna Karenina married to?</td>\n",
       "      <td>Kuzovlev</td>\n",
       "      <td>\"Anna and I are for Kuzovlev,\" replied Betsy.</td>\n",
       "    </tr>\n",
       "    <tr>\n",
       "      <th>167</th>\n",
       "      <td>Who is Anna Karenina married to?</td>\n",
       "      <td>Landau</td>\n",
       "      <td>Now that he’s so thick with Lidia Ivanovna and Landau, they all say he’s crazy, and I should prefer not to agree with everybody, but this time I can’t help it.\"</td>\n",
       "    </tr>\n",
       "    <tr>\n",
       "      <th>168</th>\n",
       "      <td>Who is Anna Karenina married to?</td>\n",
       "      <td>Laska</td>\n",
       "      <td>He wandered all about the reeds, but Laska did not believe he had shot it, and when he sent her to find it, she pretended to hunt for it, but did not really.</td>\n",
       "    </tr>\n",
       "    <tr>\n",
       "      <th>169</th>\n",
       "      <td>Who is Anna Karenina married to?</td>\n",
       "      <td>Levin</td>\n",
       "      <td>Levin was of the opinion of Darya Alexandrovna that a girl who did not marry should find a woman’s duties in a family.</td>\n",
       "    </tr>\n",
       "    <tr>\n",
       "      <th>170</th>\n",
       "      <td>Who is Anna Karenina married to?</td>\n",
       "      <td>Levins</td>\n",
       "      <td>Besides the Oblonskys, with all their children and their governess, the old princess too came to stay that summer with the Levins, as she considered it her duty to watch over her inexperienced daughter in her _interesting condition_.</td>\n",
       "    </tr>\n",
       "    <tr>\n",
       "      <th>171</th>\n",
       "      <td>Who is Anna Karenina married to?</td>\n",
       "      <td>Lidia Ivanovna</td>\n",
       "      <td>But Countess Lidia Ivanovna, though she was interested in everything that did not concern her, had a habit of never listening to what interested her; she interrupted Anna:</td>\n",
       "    </tr>\n",
       "    <tr>\n",
       "      <th>172</th>\n",
       "      <td>Who is Anna Karenina married to?</td>\n",
       "      <td>Lily</td>\n",
       "      <td>\"If only Masha does not begin her naughty tricks, if Grisha isn’t kicked by a horse, and Lily’s stomach isn’t upset again!\"</td>\n",
       "    </tr>\n",
       "    <tr>\n",
       "      <th>173</th>\n",
       "      <td>Who is Anna Karenina married to?</td>\n",
       "      <td>Liza</td>\n",
       "      <td>\"I’m not going,\" said Liza, smiling and settling herself close to Anna.</td>\n",
       "    </tr>\n",
       "    <tr>\n",
       "      <th>174</th>\n",
       "      <td>Who is Anna Karenina married to?</td>\n",
       "      <td>Liza Merkalova</td>\n",
       "      <td>Betsy reminded her that Liza Merkalova and Baroness Shtoltz were coming to play croquet with her that morning with their adorers, Kaluzhsky and old Stremov.</td>\n",
       "    </tr>\n",
       "    <tr>\n",
       "      <th>175</th>\n",
       "      <td>Who is Anna Karenina married to?</td>\n",
       "      <td>Lizaveta Petrovna</td>\n",
       "      <td>\"Come, that’s enough, that’s enough!\" said Lizaveta Petrovna, but Kitty would not let the baby go.</td>\n",
       "    </tr>\n",
       "    <tr>\n",
       "      <th>176</th>\n",
       "      <td>Who is Anna Karenina married to?</td>\n",
       "      <td>Lvov</td>\n",
       "      <td>We were talking yesterday with mamma and Arseny\" (this was her sister’s husband Lvov), \"and we determined to send you with him to talk to Stiva.</td>\n",
       "    </tr>\n",
       "    <tr>\n",
       "      <th>177</th>\n",
       "      <td>Who is Anna Karenina married to?</td>\n",
       "      <td>Madame Karenina</td>\n",
       "      <td>\"Do you know Madame Karenina?</td>\n",
       "    </tr>\n",
       "    <tr>\n",
       "      <th>178</th>\n",
       "      <td>Who is Anna Karenina married to?</td>\n",
       "      <td>Madame Lvova</td>\n",
       "      <td>she was standing in the drawing-room of the Shtcherbatskys’ house with her sister, Madame Lvova, who was her bridal-mother.</td>\n",
       "    </tr>\n",
       "    <tr>\n",
       "      <th>179</th>\n",
       "      <td>Who is Anna Karenina married to?</td>\n",
       "      <td>Madame Stahl</td>\n",
       "      <td>This Russian girl was not, as Kitty gathered, related to Madame Stahl, nor was she a paid attendant.</td>\n",
       "    </tr>\n",
       "    <tr>\n",
       "      <th>180</th>\n",
       "      <td>Who is Anna Karenina married to?</td>\n",
       "      <td>Mademoiselle Varenka</td>\n",
       "      <td>Varenka lived with her all the while abroad, and everyone who knew Madame Stahl knew and liked Mademoiselle Varenka, as everyone called her.</td>\n",
       "    </tr>\n",
       "  </tbody>\n",
       "</table>\n",
       "</div>"
      ],
      "text/plain": [
       "                             question                   entity  \\\n",
       "150  Who is Anna Karenina married to?                     John   \n",
       "151  Who is Anna Karenina married to?               Kamerovsky   \n",
       "152  Who is Anna Karenina married to?              Kapitonitch   \n",
       "153  Who is Anna Karenina married to?                  Karenin   \n",
       "154  Who is Anna Karenina married to?                Katavasov   \n",
       "155  Who is Anna Karenina married to?    Katerina Alexandrovna   \n",
       "156  Who is Anna Karenina married to?                    Katya   \n",
       "157  Who is Anna Karenina married to?                    Kitty   \n",
       "158  Who is Anna Karenina married to?               Konstantin   \n",
       "159  Who is Anna Karenina married to?  Konstantin Dmitrievitch   \n",
       "160  Who is Anna Karenina married to?         Konstantin Levin   \n",
       "161  Who is Anna Karenina married to?                Korsunsky   \n",
       "162  Who is Anna Karenina married to?                   Kouzma   \n",
       "163  Who is Anna Karenina married to?                Koznishev   \n",
       "164  Who is Anna Karenina married to?                     Krak   \n",
       "165  Who is Anna Karenina married to?                  Kritsky   \n",
       "166  Who is Anna Karenina married to?                 Kuzovlev   \n",
       "167  Who is Anna Karenina married to?                   Landau   \n",
       "168  Who is Anna Karenina married to?                    Laska   \n",
       "169  Who is Anna Karenina married to?                    Levin   \n",
       "170  Who is Anna Karenina married to?                   Levins   \n",
       "171  Who is Anna Karenina married to?           Lidia Ivanovna   \n",
       "172  Who is Anna Karenina married to?                     Lily   \n",
       "173  Who is Anna Karenina married to?                     Liza   \n",
       "174  Who is Anna Karenina married to?           Liza Merkalova   \n",
       "175  Who is Anna Karenina married to?        Lizaveta Petrovna   \n",
       "176  Who is Anna Karenina married to?                     Lvov   \n",
       "177  Who is Anna Karenina married to?          Madame Karenina   \n",
       "178  Who is Anna Karenina married to?             Madame Lvova   \n",
       "179  Who is Anna Karenina married to?             Madame Stahl   \n",
       "180  Who is Anna Karenina married to?     Mademoiselle Varenka   \n",
       "\n",
       "                                                                                                                                                                                                                                                                                                   sentence_trim  \n",
       "150                                                                                                                                                                                                                                                                                          Sir John was there.  \n",
       "151                                                                                                                                                                                               Kamerovsky got up too, and Vronsky, not waiting for him to go, shook hands and went off to his dressing room.   \n",
       "152  All had heard that their mistress had come, and that Kapitonitch had let her in, and that she was even now in the nursery, and that their master always went in person to the nursery at nine o’clock, and every one fully comprehended that it was impossible for the husband and wife to meet, and tha...  \n",
       "153                                                                                                                                                                 Besides this business, Stepan Arkadyevitch had promised his sister Anna to obtain from Karenin a definite answer on the question of divorce.  \n",
       "154  On the previous day Katavasov had met Levin at a public lecture and told him that the celebrated Metrov, whose article Levin had so much liked, was in Moscow, that he had been much interested by what Katavasov had told him about Levin’s work, and that he was coming to see him tomorrow at eleven,...  \n",
       "155                                                                                                                                                                                                                        —I did make an offer and was rejected, and Katerina Alexandrovna is nothing now to me  \n",
       "156                                                                                                                                                                 When the doctor had gone away the sick man said something to his brother, of which Levin could distinguish only the last words: \"Your Katya.  \n",
       "157                                                                                                                                                                                                                                                   Then Anna was so happy, and Kitty thought herself unhappy.  \n",
       "158                                                                                                                                                                                                                           Not so much from what her mother told her, as from the fact that it was Konstantin  \n",
       "159                                                                                                                                                                                          \"I am telling Konstantin Dmitrievitch about Turovtsin in the scarlet fever,\" she said, bending over to her sister.   \n",
       "160                                                                                                                                                                                                                                                    Konstantin Levin was the only person who had not arrived.  \n",
       "161                                                                                                                              No, I am not going to stay,\" answered Anna, smiling, but in spite of her smile, both Korsunsky and the master of the house saw from her resolute tone that she would not stay.   \n",
       "162                                                                                                                                                            At home Kouzma told Levin that Katerina Alexandrovna was quite well, and that her sisters had not long been gone, and he handed him two letters.   \n",
       "163                                                                                                                                                                                To be the wife of a man like Koznishev, after her position with Madame Stahl, was to her imagination the height of happiness.  \n",
       "164                                                              If he had anything on his mind at that moment, it was only the doubt whether they would start anything in the Kolpensky marsh, whether Laska would show to advantage in comparison with Krak, and whether he would shoot well that day himself.  \n",
       "165                                                                                                                                                                                              \"You’re of the Kiev university?\" said Konstantin Levin to Kritsky, to break the awkward silence that followed.   \n",
       "166                                                                                                                                                                                                                                                               \"Anna and I are for Kuzovlev,\" replied Betsy.   \n",
       "167                                                                                                                                            Now that he’s so thick with Lidia Ivanovna and Landau, they all say he’s crazy, and I should prefer not to agree with everybody, but this time I can’t help it.\"   \n",
       "168                                                                                                                                                He wandered all about the reeds, but Laska did not believe he had shot it, and when he sent her to find it, she pretended to hunt for it, but did not really.  \n",
       "169                                                                                                                                                                                       Levin was of the opinion of Darya Alexandrovna that a girl who did not marry should find a woman’s duties in a family.  \n",
       "170                                                                   Besides the Oblonskys, with all their children and their governess, the old princess too came to stay that summer with the Levins, as she considered it her duty to watch over her inexperienced daughter in her _interesting condition_.   \n",
       "171                                                                                                                                 But Countess Lidia Ivanovna, though she was interested in everything that did not concern her, had a habit of never listening to what interested her; she interrupted Anna:   \n",
       "172                                                                                                                                                                                  \"If only Masha does not begin her naughty tricks, if Grisha isn’t kicked by a horse, and Lily’s stomach isn’t upset again!\"  \n",
       "173                                                                                                                                                                                                                                     \"I’m not going,\" said Liza, smiling and settling herself close to Anna.   \n",
       "174                                                                                                                                                 Betsy reminded her that Liza Merkalova and Baroness Shtoltz were coming to play croquet with her that morning with their adorers, Kaluzhsky and old Stremov.  \n",
       "175                                                                                                                                                                                                           \"Come, that’s enough, that’s enough!\" said Lizaveta Petrovna, but Kitty would not let the baby go.  \n",
       "176                                                                                                                                                             We were talking yesterday with mamma and Arseny\" (this was her sister’s husband Lvov), \"and we determined to send you with him to talk to Stiva.  \n",
       "177                                                                                                                                                                                                                                                                                \"Do you know Madame Karenina?  \n",
       "178                                                                                                                                                                                  she was standing in the drawing-room of the Shtcherbatskys’ house with her sister, Madame Lvova, who was her bridal-mother.  \n",
       "179                                                                                                                                                                                                         This Russian girl was not, as Kitty gathered, related to Madame Stahl, nor was she a paid attendant.  \n",
       "180                                                                                                                                                                Varenka lived with her all the while abroad, and everyone who knew Madame Stahl knew and liked Mademoiselle Varenka, as everyone called her.   "
      ]
     },
     "execution_count": 28,
     "metadata": {},
     "output_type": "execute_result"
    }
   ],
   "source": [
    "#ent_candidates.loc[lambda df: df['question'] == 'Who is Anna Karenina married to?', ['question', 'entity', 'sentence_trim']]\n",
    "ent_candidates.loc[150:180, ['question', 'entity', 'sentence_trim']]"
   ]
  },
  {
   "cell_type": "markdown",
   "metadata": {},
   "source": [
    "# WordNet similarity"
   ]
  },
  {
   "cell_type": "code",
   "execution_count": 12,
   "metadata": {},
   "outputs": [],
   "source": [
    "from nltk.corpus import wordnet as wn"
   ]
  },
  {
   "cell_type": "code",
   "execution_count": 80,
   "metadata": {},
   "outputs": [],
   "source": [
    "def token_to_synset_id(sentence):\n",
    "    syn_list = []\n",
    "    for token in sentence:\n",
    "        wn_tag = None\n",
    "        if token.pos_.startswith('N'):\n",
    "            wn_tag = 'n'\n",
    "        if token.pos_.startswith('V'):\n",
    "            wn_tag = 'v'\n",
    "        if token.pos_.startswith('J'):\n",
    "            wn_tag = 'a'\n",
    "        if token.pos_.startswith('R'):\n",
    "            wn_tag = 'r'\n",
    "        \n",
    "        if wn_tag is not None:\n",
    "            try:\n",
    "                syn_id = wn.synsets(token.lemma_, wn_tag)[0]\n",
    "                if syn_id is not None:\n",
    "                    syn_list.append(syn_id)\n",
    "            except:\n",
    "                syn_id = None\n",
    "    \n",
    "    return syn_list\n",
    "\n",
    "def synset_similarity(sentence1, sentence2):\n",
    "    \"\"\" compute the sentence similarity using Wordnet \"\"\"\n",
    "    # Get synsets\n",
    "    syn_list1 = token_to_synset_id(sentence1)\n",
    "    syn_list2 = token_to_synset_id(sentence2)\n",
    "    \n",
    "    score, count = 0.0, 0\n",
    "    # For each word in the first sentence\n",
    "    for synset in syn_list1:\n",
    "        # Get the similarity value of the most similar word in the other sentence\n",
    "        best_score = None\n",
    "        sim_list = [synset.path_similarity(ss) or 0 for ss in syn_list2]\n",
    "        if len(sim_list) != 0:\n",
    "            best_score = max(sim_list)\n",
    "        # Check that the similarity could have been computed\n",
    "        if best_score is not None:\n",
    "            score += best_score\n",
    "            count += 1\n",
    "\n",
    "    # Average the values\n",
    "    if count != 0:\n",
    "        score /= count\n",
    "        return score\n",
    "    else:\n",
    "        return 0"
   ]
  },
  {
   "cell_type": "code",
   "execution_count": 82,
   "metadata": {},
   "outputs": [
    {
     "data": {
      "text/plain": [
       "0.2689123376623377"
      ]
     },
     "execution_count": 82,
     "metadata": {},
     "output_type": "execute_result"
    }
   ],
   "source": [
    "sent1 = nlp('Shortly afterwards, Captain Delmar again came over to Madeline Hall, accompanied as usual, by Ben, and ' + \n",
    "    'the second day after their arrival it was made known to all whom it might concern, that Miss Arabella Mason' +\n",
    "    ' had actually contracted a secret marriage with the handsome Benjamin Keene.')\n",
    "\n",
    "sent2 = nlp('Who does Arabella Mason wed?')\n",
    "\n",
    "synset_similarity(sent1, sent2)"
   ]
  },
  {
   "cell_type": "code",
   "execution_count": 88,
   "metadata": {},
   "outputs": [
    {
     "name": "stdout",
     "output_type": "stream",
     "text": [
      "2.71464431675264\n"
     ]
    }
   ],
   "source": [
    "%%timeit -r1 -n1 -c\n",
    "\n",
    "sim_list = []\n",
    "\n",
    "for sent in doc.sents:\n",
    "    sim_list.append(sent.similarity(sent2))\n",
    "    \n",
    "    last_sent = sent.text"
   ]
  },
  {
   "cell_type": "code",
   "execution_count": 20,
   "metadata": {},
   "outputs": [
    {
     "data": {
      "text/plain": [
       "1.0"
      ]
     },
     "execution_count": 20,
     "metadata": {},
     "output_type": "execute_result"
    }
   ],
   "source": [
    "wn.synset('write.v.01').path_similarity(wn.synset('write.v.01'))"
   ]
  },
  {
   "cell_type": "code",
   "execution_count": 27,
   "metadata": {},
   "outputs": [
    {
     "data": {
      "text/plain": [
       "4"
      ]
     },
     "execution_count": 27,
     "metadata": {},
     "output_type": "execute_result"
    }
   ],
   "source": [
    "nltk.edit_distance('Amelia', 'Arabella')"
   ]
  }
 ],
 "metadata": {
  "kernelspec": {
   "display_name": "Python [conda env:narrativeqa]",
   "language": "python",
   "name": "conda-env-narrativeqa-py"
  },
  "language_info": {
   "codemirror_mode": {
    "name": "ipython",
    "version": 3
   },
   "file_extension": ".py",
   "mimetype": "text/x-python",
   "name": "python",
   "nbconvert_exporter": "python",
   "pygments_lexer": "ipython3",
   "version": "3.5.5"
  }
 },
 "nbformat": 4,
 "nbformat_minor": 2
}
