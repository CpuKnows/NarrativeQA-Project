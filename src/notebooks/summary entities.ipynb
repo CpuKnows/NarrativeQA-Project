{
 "cells": [
  {
   "cell_type": "code",
   "execution_count": 1,
   "metadata": {},
   "outputs": [],
   "source": [
    "# Author: John Maxwell\n",
    "# Date: 2018-03-30\n",
    "# TLDR: Simple heuristic to anonymize entities\n",
    "# =============================================================================\n",
    "import codecs\n",
    "import string\n",
    "import sys\n",
    "import numpy as np\n",
    "import pandas as pd\n",
    "import spacy\n",
    "from spacy.lang.en import English\n",
    "from spacy.tokens import Doc, Span, Token\n",
    "from tqdm import tqdm\n",
    "\n",
    "\n",
    "class SimpleEntityAnonymizer(object):\n",
    "    \"\"\"Spacy pipeline component. Used to to replace entities with anonymized tokens.\n",
    "    If a word is capitalized and doesn't appear in lowercase elsewhere in the text anonymize it.\"\"\"\n",
    "\n",
    "    name = 'entity_anonymizer'\n",
    "\n",
    "    def __init__(self, nlp, attr='entity_id'):\n",
    "        Token.set_extension(attr, default=None)\n",
    "\n",
    "    def __call__(self, doc):\n",
    "        upper = set()\n",
    "        lower = set()\n",
    "        entity_map = dict()\n",
    "\n",
    "        for token in doc:\n",
    "            if token.text[0] in string.ascii_uppercase:\n",
    "                upper.add(token.text)\n",
    "            else:\n",
    "                lower.add(token.text)\n",
    "\n",
    "        entities = [token for token in upper if token.lower() not in lower]\n",
    "        entity_ids = np.random.choice(len(entities), len(entities)).tolist()\n",
    "        \n",
    "        for token in doc:\n",
    "            if token.text in entities:\n",
    "                if token.text not in entity_map.keys():\n",
    "                    entity_map[token.text] = '@entity' + str(entity_ids.pop())\n",
    "                token._.set('entity_id', entity_map[token.text])\n",
    "                \n",
    "        return doc\n",
    "\n",
    "\n",
    "def entity_doc_to_text(doc):\n",
    "    \"\"\"Prints out text with anonymized tokens.\n",
    "\n",
    "    :param doc: spacy doc object\n",
    "    :return: anonymized text\n",
    "    \"\"\"\n",
    "    # spacy issue #2073\n",
    "    # if not doc[0].has_extension('entity_id'):\n",
    "    #     print('Tokens don\\'t have attribute: entity_id')\n",
    "    #     return None\n",
    "    entid2w = dict()\n",
    "    w2entid = dict()\n",
    "    text = ''\n",
    "    for token in doc:\n",
    "        if token._.entity_id is not None:\n",
    "            whitespace = token.text_with_ws[len(token.text):]\n",
    "            text += token._.entity_id + whitespace\n",
    "            entid2w[token._.entity_id] = token.text\n",
    "            w2entid[token.text] = token._.entity_id\n",
    "        else:\n",
    "            text += token.text_with_ws\n",
    "    return text, entid2w, w2entid"
   ]
  },
  {
   "cell_type": "code",
   "execution_count": 2,
   "metadata": {},
   "outputs": [],
   "source": [
    "docs_index = pd.read_csv('../../data/documents_books.csv')\n",
    "questions = pd.read_csv('../../data/questions_books_who.csv')"
   ]
  },
  {
   "cell_type": "code",
   "execution_count": 3,
   "metadata": {},
   "outputs": [],
   "source": [
    "summaries = pd.read_csv('../../data/third_party/wikipedia/summaries.csv')\n",
    "questions = questions.merge(summaries.loc[:, ['document_id', 'summary',  'summary_tokenized']], how='left', on='document_id')"
   ]
  },
  {
   "cell_type": "code",
   "execution_count": 4,
   "metadata": {},
   "outputs": [],
   "source": [
    "import pickle\n",
    "import re\n",
    "from collections import Counter\n",
    "\n",
    "nlp_simple = spacy.load('en_core_web_md', diable=['tagger', 'parser', 'ner', 'textcat'])\n",
    "\n",
    "nlp = English()\n",
    "component = SimpleEntityAnonymizer(nlp)\n",
    "nlp.add_pipe(component, last=True)"
   ]
  },
  {
   "cell_type": "code",
   "execution_count": 13,
   "metadata": {},
   "outputs": [
    {
     "name": "stderr",
     "output_type": "stream",
     "text": [
      "100%|██████████████████████████████████████| 5707/5707 [06:12<00:00, 15.31it/s]\n"
     ]
    }
   ],
   "source": [
    "entity_id_translation = dict()\n",
    "previous_doc_id = ''\n",
    "\n",
    "for i, row in tqdm(questions.iterrows(), total=len(questions)):\n",
    "    if row['document_id'] != previous_doc_id:\n",
    "        previous_doc_id = row['document_id']\n",
    "        doc = nlp(row['summary'])\n",
    "        new_text, entid2w, w2entid = entity_doc_to_text(doc)\n",
    "        entity_id_translation[row['document_id']] = {'entid2w': entid2w, 'w2entid': w2entid}\n",
    "        doc = nlp_simple(new_text)\n",
    "    \n",
    "    q = nlp_simple(row['question'])\n",
    "    q_tokenized = ' '.join([token.text for token in q])\n",
    "    q_tokenized = re.sub('[\\s]+', ' ', q_tokenized)\n",
    "    \n",
    "    best_similarity_score = 0.0\n",
    "    best_sent_triple = ''\n",
    "\n",
    "    sent_stack = []\n",
    "    for sent in doc.sents:\n",
    "        # create groups of 3 sentences\n",
    "        sent_stack.append(sent)\n",
    "        if len(sent_stack) >= 3:\n",
    "            sent_triple = doc[sent_stack[0].start:sent_stack[-1].end]\n",
    "            sent_stack.pop(0)\n",
    "\n",
    "            similarity_score = sent_triple.similarity(q)\n",
    "            if similarity_score > best_similarity_score:\n",
    "                best_similarity_score = similarity_score\n",
    "                best_sent_triple = ' '.join([token.text for token in sent_triple])\n",
    "    \n",
    "    with codecs.open('../../data/summary_anon_{}.q'.format(row['set']), 'a', \n",
    "                     encoding='utf-8', errors='ignore') as f:\n",
    "        best = re.sub('[\\s]+', ' ', best_sent_triple).strip()\n",
    "        f.write(best + ' <d> ' + q_tokenized + '\\n')\n",
    "        \n",
    "    with codecs.open('../../data/summary_anon_{}.a'.format(row['set']), 'a', \n",
    "                     encoding='utf-8', errors='ignore') as f:\n",
    "        answer_tokens = row['answer1_tokenized'].split()\n",
    "        answer_tokens_output = []\n",
    "        for token in answer_tokens:\n",
    "            if token in w2entid:\n",
    "                answer_tokens_output.append(w2entid[token])\n",
    "            else:\n",
    "                answer_tokens_output.append(token)\n",
    "        answer_tokens_output = ' '.join(answer_tokens_output).strip()\n",
    "        f.write(answer_tokens_output + '\\n')\n",
    "        \n",
    "with open('../../data/summary_entity_id_translation.pkl', 'wb') as f:\n",
    "    pickle.dump(entity_id_translation, f)"
   ]
  },
  {
   "cell_type": "code",
   "execution_count": 38,
   "metadata": {},
   "outputs": [],
   "source": [
    "def create_vocab(question_file, answer_file, out_file):\n",
    "    with codecs.open(question_file, 'r', encoding='utf-8', errors='ignore') as f:\n",
    "        q_tokens = f.readlines()\n",
    "    with codecs.open(answer_file, 'r', encoding='utf-8', errors='ignore') as f:\n",
    "        a_tokens = f.readlines()\n",
    "        \n",
    "    counts = Counter()\n",
    "    for q_line, a_line in zip(q_tokens, a_tokens):\n",
    "        for qt, at in zip(q_line.split(), a_line.split()):\n",
    "            if len(qt.strip()) != 0:\n",
    "                counts[qt.strip()] += 1\n",
    "            if len(at.strip()) != 0:\n",
    "                counts[at.strip()] += 1\n",
    "            \n",
    "    with codecs.open(out_file, 'w', encoding='utf-8', errors='ignore') as f:\n",
    "        for word, count in counts.most_common():\n",
    "            f.write('{}\\n'.format(word))"
   ]
  },
  {
   "cell_type": "code",
   "execution_count": 39,
   "metadata": {},
   "outputs": [],
   "source": [
    "from preshed.counter import PreshCounter\n",
    "\n",
    "create_vocab('../../data/summary_anon_train.q',\n",
    "             '../../data/summary_anon_train.a',\n",
    "             '../../data/vocab_summary_ent_train.q')\n",
    "\n",
    "create_vocab('../../data/summary_anon_valid.q',\n",
    "             '../../data/summary_anon_valid.a',\n",
    "             '../../data/vocab_summary_ent_valid.q')\n",
    "\n",
    "create_vocab('../../data/summary_anon_test.q',\n",
    "             '../../data/summary_anon_test.a',\n",
    "             '../../data/vocab_summary_ent_test.q')"
   ]
  },
  {
   "cell_type": "code",
   "execution_count": 41,
   "metadata": {},
   "outputs": [
    {
     "data": {
      "text/plain": [
       "[('.', 1362),\n",
       " ('The', 1038),\n",
       " (',', 814),\n",
       " ('the', 800),\n",
       " ('and', 498),\n",
       " ('is', 484),\n",
       " ('of', 438),\n",
       " ('@entity2', 367),\n",
       " ('@entity0', 360),\n",
       " ('a', 356),\n",
       " ('@entity7', 356),\n",
       " ('@entity5', 342),\n",
       " ('@entity4', 337),\n",
       " ('to', 336),\n",
       " ('@entity10', 322),\n",
       " ('He', 321),\n",
       " ('@entity6', 319),\n",
       " ('@entity8', 314),\n",
       " ('@entity3', 310),\n",
       " ('@entity1', 309)]"
      ]
     },
     "execution_count": 41,
     "metadata": {},
     "output_type": "execute_result"
    }
   ],
   "source": [
    "with codecs.open('../../data/summary_anon_train.q', 'r', encoding='utf-8', errors='ignore') as f:\n",
    "    q_tokens = f.readlines()\n",
    "with codecs.open('../../data/summary_anon_train.a', 'r', encoding='utf-8', errors='ignore') as f:\n",
    "    a_tokens = f.readlines()\n",
    "\n",
    "counts = Counter()\n",
    "for q_line, a_line in zip(q_tokens, a_tokens):\n",
    "    for qt, at in zip(q_line.split(), a_line.split()):\n",
    "        if len(qt.strip()) != 0:\n",
    "            counts[qt.strip()] += 1\n",
    "        if len(at.strip()) != 0:\n",
    "            counts[at.strip()] += 1\n",
    "\n",
    "counts.most_common(20)"
   ]
  },
  {
   "cell_type": "code",
   "execution_count": 45,
   "metadata": {},
   "outputs": [
    {
     "data": {
      "text/plain": [
       "<matplotlib.axes._subplots.AxesSubplot at 0xe42398be10>"
      ]
     },
     "execution_count": 45,
     "metadata": {},
     "output_type": "execute_result"
    },
    {
     "data": {
      "image/png": "[encoded data removed]",
      "text/plain": [
       "<Figure size 432x288 with 1 Axes>"
      ]
     },
     "metadata": {},
     "output_type": "display_data"
    }
   ],
   "source": [
    "import seaborn as sns\n",
    "\n",
    "asdf = [j for i,j in counts.most_common()]\n",
    "sns.distplot(asdf, hist=False)"
   ]
  }
 ],
 "metadata": {
  "kernelspec": {
   "display_name": "Python [conda env:narrativeqa]",
   "language": "python",
   "name": "conda-env-narrativeqa-py"
  },
  "language_info": {
   "codemirror_mode": {
    "name": "ipython",
    "version": 3
   },
   "file_extension": ".py",
   "mimetype": "text/x-python",
   "name": "python",
   "nbconvert_exporter": "python",
   "pygments_lexer": "ipython3",
   "version": "3.5.5"
  }
 },
 "nbformat": 4,
 "nbformat_minor": 2
}
